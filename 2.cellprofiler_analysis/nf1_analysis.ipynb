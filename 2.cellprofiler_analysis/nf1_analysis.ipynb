{
 "cells": [
  {
   "attachments": {},
   "cell_type": "markdown",
   "metadata": {},
   "source": [
    "# Perform segmentation and feature extraction for each plate using CellProfiler Parallel"
   ]
  },
  {
   "attachments": {},
   "cell_type": "markdown",
   "metadata": {},
   "source": [
    "## Import libraries"
   ]
  },
  {
   "cell_type": "code",
   "execution_count": null,
   "metadata": {},
   "outputs": [],
   "source": [
    "import pathlib\n",
    "import pprint\n",
    "\n",
    "import sys\n",
    "\n",
    "sys.path.append(\"../utils\")\n",
    "import cp_parallel\n",
    "from cp_sequential import rename_sqlite_file"
   ]
  },
  {
   "attachments": {},
   "cell_type": "markdown",
   "metadata": {},
   "source": [
    "## Set paths and variables"
   ]
  },
  {
   "cell_type": "code",
   "execution_count": 2,
   "metadata": {},
   "outputs": [
    {
     "name": "stdout",
     "output_type": "stream",
     "text": [
      "['Plate_4', 'Plate_2', 'Plate_3_prime', 'Plate_6', 'Plate_5', 'Plate_1', 'Plate_3']\n"
     ]
    }
   ],
   "source": [
    "# set the run type for the parallelization\n",
    "run_name = \"analysis\"\n",
    "\n",
    "# set main output dir for all plates\n",
    "output_dir = pathlib.Path(\"./analysis_output\")\n",
    "output_dir.mkdir(exist_ok=True)\n",
    "\n",
    "# directory where images are located within folders\n",
    "images_dir = pathlib.Path(\"../1.cellprofiler_ic/Corrected_Images/\")\n",
    "\n",
    "# list for plate names based on folders to use to create dictionary\n",
    "plate_names = []\n",
    "# iterate through 0.download_data and append plate names from folder names that contain image data from that plate\n",
    "for file_path in pathlib.Path(\"../0.download_data/\").iterdir():\n",
    "    if str(file_path.stem).startswith(\"Plate\"):\n",
    "        plate_names.append(str(file_path.stem))\n",
    "\n",
    "print(plate_names)"
   ]
  },
  {
   "cell_type": "markdown",
   "metadata": {},
   "source": [
    "## Create dictionary with all info for each plate"
   ]
  },
  {
   "cell_type": "code",
   "execution_count": 3,
   "metadata": {},
   "outputs": [
    {
     "name": "stdout",
     "output_type": "stream",
     "text": [
      "{   'Plate_6': {   'path_to_images': PosixPath('/media/18tbdrive/1.Github_Repositories/nf1_schwann_cell_painting_data/1.cellprofiler_ic/Corrected_Images/Corrected_Plate_6'),\n",
      "                   'path_to_output': PosixPath('analysis_output/Plate_6'),\n",
      "                   'path_to_pipeline': PosixPath('/media/18tbdrive/1.Github_Repositories/nf1_schwann_cell_painting_data/2.cellprofiler_analysis/NF1_analysis_4channel.cppipe')}}\n"
     ]
    }
   ],
   "source": [
    "# create plate info dictionary with specified plates for the CellProfiler CLI command\n",
    "plate_info_dictionary = {\n",
    "    name: {\n",
    "        \"path_to_images\": pathlib.Path(\n",
    "            list(images_dir.rglob(f\"Corrected_{name}\"))[0]\n",
    "        ).resolve(strict=True),\n",
    "        \"path_to_output\": pathlib.Path(f\"{output_dir}/{name}\"),\n",
    "    }\n",
    "    for name in plate_names\n",
    "    if not (output_dir / name).exists() # only process plates that have not been processed yet\n",
    "}\n",
    "\n",
    "# iterate over the dictionary and add the path_to_pipeline specific for each plate\n",
    "for name, info in plate_info_dictionary.items():\n",
    "    # only plates 1 and 2 have 3 channels so these are the only plates that use this path\n",
    "    if name == \"Plate_1\" or name == \"Plate_2\":\n",
    "        info[\"path_to_pipeline\"] = pathlib.Path(\n",
    "            \"./NF1_analysis_3channel.cppipe\"\n",
    "        ).resolve(strict=True)\n",
    "    # all other plates have 4 channels and will use that specific pipeline\n",
    "    else:\n",
    "        info[\"path_to_pipeline\"] = pathlib.Path(\n",
    "            \"./NF1_analysis_4channel.cppipe\"\n",
    "        ).resolve(strict=True)\n",
    "\n",
    "# view the dictionary to assess that all info is added correctly\n",
    "pprint.pprint(plate_info_dictionary, indent=4)"
   ]
  },
  {
   "attachments": {},
   "cell_type": "markdown",
   "metadata": {},
   "source": [
    "## Run analysis pipeline on each plate in parallel\n",
    "\n",
    "This cell is not finished to completion due to how long it would take. It is ran in the python file instead."
   ]
  },
  {
   "cell_type": "code",
   "execution_count": null,
   "metadata": {},
   "outputs": [],
   "source": [
    "# Process data with cp_parallel\n",
    "cp_parallel.run_cellprofiler_parallel(\n",
    "    plate_info_dictionary=plate_info_dictionary, run_name=run_name\n",
    ")\n",
    "\n",
    "# rename the sqlite files to match the plate names\n",
    "for name in plate_names:\n",
    "    rename_sqlite_file(pathlib.Path(f\"{output_dir}/{name}\"), name)"
   ]
  }
 ],
 "metadata": {
  "kernelspec": {
   "display_name": "nf1_cellpainting_data",
   "language": "python",
   "name": "python3"
  },
  "language_info": {
   "codemirror_mode": {
    "name": "ipython",
    "version": 3
   },
   "file_extension": ".py",
   "mimetype": "text/x-python",
   "name": "python",
   "nbconvert_exporter": "python",
   "pygments_lexer": "ipython3",
   "version": "3.8.19"
  },
  "orig_nbformat": 4
 },
 "nbformat": 4,
 "nbformat_minor": 2
}
