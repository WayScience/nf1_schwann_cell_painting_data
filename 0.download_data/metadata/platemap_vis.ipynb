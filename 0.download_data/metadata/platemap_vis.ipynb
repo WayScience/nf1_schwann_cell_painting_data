{
 "cells": [
  {
   "cell_type": "markdown",
   "metadata": {},
   "source": [
    "# Create platemap figures based on the platemap files"
   ]
  },
  {
   "cell_type": "markdown",
   "metadata": {},
   "source": [
    "## Import libraries"
   ]
  },
  {
   "cell_type": "code",
   "execution_count": 1,
   "metadata": {
    "vscode": {
     "languageId": "r"
    }
   },
   "outputs": [
    {
     "name": "stderr",
     "output_type": "stream",
     "text": [
      "Warning message:\n",
      "“package ‘ggplot2’ was built under R version 4.2.3”\n",
      "Warning message:\n",
      "“package ‘platetools’ was built under R version 4.2.3”\n"
     ]
    }
   ],
   "source": [
    "suppressPackageStartupMessages(library(dplyr))\n",
    "suppressPackageStartupMessages(library(ggplot2))\n",
    "suppressPackageStartupMessages(library(platetools))"
   ]
  },
  {
   "cell_type": "markdown",
   "metadata": {},
   "source": [
    "# Set paths to each platemap and output"
   ]
  },
  {
   "cell_type": "code",
   "execution_count": 2,
   "metadata": {
    "vscode": {
     "languageId": "r"
    }
   },
   "outputs": [
    {
     "name": "stdout",
     "output_type": "stream",
     "text": [
      "[1] \"./platemap_NF1_plate1.csv\" \"./platemap_NF1_plate2.csv\"\n",
      "[3] \"./platemap_NF1_plate3.csv\" \"./platemap_NF1_plate4.csv\"\n",
      "[5] \"./platemap_NF1_plate5.csv\" \"./platemap_NF1_plate6.csv\"\n",
      "$plate1\n",
      "[1] \"platemap_figures/plate1_platemap_figure.png\"\n",
      "\n",
      "$plate2\n",
      "[1] \"platemap_figures/plate2_platemap_figure.png\"\n",
      "\n",
      "$plate3\n",
      "[1] \"platemap_figures/plate3_platemap_figure.png\"\n",
      "\n",
      "$plate4\n",
      "[1] \"platemap_figures/plate4_platemap_figure.png\"\n",
      "\n",
      "$plate5\n",
      "[1] \"platemap_figures/plate5_platemap_figure.png\"\n",
      "\n",
      "$plate6\n",
      "[1] \"platemap_figures/plate6_platemap_figure.png\"\n",
      "\n"
     ]
    }
   ],
   "source": [
    "platemap_files <- list.files(pattern = \"^platemap_NF1*\", full.names = TRUE)\n",
    "print(platemap_files)\n",
    "\n",
    "output_fig_dir <- file.path(\"platemap_figures\")\n",
    "platemap_suffix <- \"_platemap_figure.png\"\n",
    "\n",
    "output_platemap_files <- list()\n",
    "for (platemap_file in platemap_files) {\n",
    "    # Extract plate name and remove suffix \n",
    "    plate <- basename(platemap_file)\n",
    "    plate <- stringr::str_remove(plate, \"_platemap.csv\")\n",
    "    plate <- stringr::str_extract(plate, \"(?<=platemap_NF1_).*\")  # Extracts the plate name\n",
    "    plate <- stringr::str_remove(plate, \"\\\\.csv$\")  # Remove the .csv extension\n",
    "\n",
    "    output_platemap_files[[plate]] <- file.path(output_fig_dir, paste0(plate, platemap_suffix))\n",
    "}\n",
    "\n",
    "print(output_platemap_files)\n"
   ]
  },
  {
   "cell_type": "markdown",
   "metadata": {},
   "source": [
    "## Load in each platemap CSV for each plate"
   ]
  },
  {
   "cell_type": "code",
   "execution_count": 3,
   "metadata": {
    "vscode": {
     "languageId": "r"
    }
   },
   "outputs": [
    {
     "name": "stdout",
     "output_type": "stream",
     "text": [
      "$plate1\n",
      "\u001b[90m# A tibble: 8 × 5\u001b[39m\n",
      "  WellRow WellCol well_position gene_name genotype\n",
      "  \u001b[3m\u001b[90m<chr>\u001b[39m\u001b[23m   \u001b[3m\u001b[90m<chr>\u001b[39m\u001b[23m   \u001b[3m\u001b[90m<chr>\u001b[39m\u001b[23m         \u001b[3m\u001b[90m<chr>\u001b[39m\u001b[23m     \u001b[3m\u001b[90m<chr>\u001b[39m\u001b[23m   \n",
      "\u001b[90m1\u001b[39m C       6       C6            NF1       WT      \n",
      "\u001b[90m2\u001b[39m C       7       C7            NF1       Null    \n",
      "\u001b[90m3\u001b[39m D       6       D6            NF1       WT      \n",
      "\u001b[90m4\u001b[39m D       7       D7            NF1       Null    \n",
      "\u001b[90m5\u001b[39m E       6       E6            NF1       WT      \n",
      "\u001b[90m6\u001b[39m E       7       E7            NF1       Null    \n",
      "\u001b[90m7\u001b[39m F       6       F6            NF1       WT      \n",
      "\u001b[90m8\u001b[39m F       7       F7            NF1       Null    \n",
      "\n",
      "$plate2\n",
      "\u001b[90m# A tibble: 32 × 5\u001b[39m\n",
      "   WellRow WellCol well_position gene_name genotype\n",
      "   \u001b[3m\u001b[90m<chr>\u001b[39m\u001b[23m   \u001b[3m\u001b[90m<chr>\u001b[39m\u001b[23m   \u001b[3m\u001b[90m<chr>\u001b[39m\u001b[23m         \u001b[3m\u001b[90m<chr>\u001b[39m\u001b[23m     \u001b[3m\u001b[90m<chr>\u001b[39m\u001b[23m   \n",
      "\u001b[90m 1\u001b[39m A       1       A1            NF1       WT      \n",
      "\u001b[90m 2\u001b[39m A       6       A6            NF1       WT      \n",
      "\u001b[90m 3\u001b[39m A       7       A7            NF1       Null    \n",
      "\u001b[90m 4\u001b[39m A       12      A12           NF1       Null    \n",
      "\u001b[90m 5\u001b[39m B       1       B1            NF1       WT      \n",
      "\u001b[90m 6\u001b[39m B       6       B6            NF1       WT      \n",
      "\u001b[90m 7\u001b[39m B       7       B7            NF1       Null    \n",
      "\u001b[90m 8\u001b[39m B       12      B12           NF1       Null    \n",
      "\u001b[90m 9\u001b[39m C       1       C1            NF1       WT      \n",
      "\u001b[90m10\u001b[39m C       6       C6            NF1       WT      \n",
      "\u001b[90m# ℹ 22 more rows\u001b[39m\n",
      "\n",
      "$plate3\n",
      "\u001b[90m# A tibble: 72 × 6\u001b[39m\n",
      "   WellRow WellCol well_position gene_name genotype seed_density\n",
      "   \u001b[3m\u001b[90m<chr>\u001b[39m\u001b[23m   \u001b[3m\u001b[90m<chr>\u001b[39m\u001b[23m   \u001b[3m\u001b[90m<chr>\u001b[39m\u001b[23m         \u001b[3m\u001b[90m<chr>\u001b[39m\u001b[23m     \u001b[3m\u001b[90m<chr>\u001b[39m\u001b[23m    \u001b[3m\u001b[90m<chr>\u001b[39m\u001b[23m       \n",
      "\u001b[90m 1\u001b[39m B       1       B1            NF1       WT       500         \n",
      "\u001b[90m 2\u001b[39m C       1       C1            NF1       WT       500         \n",
      "\u001b[90m 3\u001b[39m D       1       D1            NF1       WT       500         \n",
      "\u001b[90m 4\u001b[39m E       1       E1            NF1       WT       500         \n",
      "\u001b[90m 5\u001b[39m F       1       F1            NF1       WT       500         \n",
      "\u001b[90m 6\u001b[39m G       1       G1            NF1       WT       500         \n",
      "\u001b[90m 7\u001b[39m B       2       B2            NF1       WT       1000        \n",
      "\u001b[90m 8\u001b[39m C       2       C2            NF1       WT       1000        \n",
      "\u001b[90m 9\u001b[39m D       2       D2            NF1       WT       1000        \n",
      "\u001b[90m10\u001b[39m E       2       E2            NF1       WT       1000        \n",
      "\u001b[90m# ℹ 62 more rows\u001b[39m\n",
      "\n",
      "$plate4\n",
      "\u001b[90m# A tibble: 60 × 9\u001b[39m\n",
      "   WellRow WellCol well_position gene_name genotype seed_density siRNA   RNAiMax\n",
      "   \u001b[3m\u001b[90m<chr>\u001b[39m\u001b[23m   \u001b[3m\u001b[90m<chr>\u001b[39m\u001b[23m   \u001b[3m\u001b[90m<chr>\u001b[39m\u001b[23m         \u001b[3m\u001b[90m<chr>\u001b[39m\u001b[23m     \u001b[3m\u001b[90m<chr>\u001b[39m\u001b[23m    \u001b[3m\u001b[90m<chr>\u001b[39m\u001b[23m        \u001b[3m\u001b[90m<chr>\u001b[39m\u001b[23m   \u001b[3m\u001b[90m<chr>\u001b[39m\u001b[23m  \n",
      "\u001b[90m 1\u001b[39m B       2       B2            NF1       WT       1000         None    0      \n",
      "\u001b[90m 2\u001b[39m B       3       B3            NF1       WT       1000         Scramb… 1      \n",
      "\u001b[90m 3\u001b[39m B       4       B4            NF1       WT       1000         Scramb… 1      \n",
      "\u001b[90m 4\u001b[39m B       5       B5            NF1       WT       1000         None    0      \n",
      "\u001b[90m 5\u001b[39m B       6       B6            NF1       WT       1000         Scramb… 1      \n",
      "\u001b[90m 6\u001b[39m B       7       B7            NF1       WT       1000         Scramb… 1      \n",
      "\u001b[90m 7\u001b[39m B       8       B8            NF1       WT       1000         None    0      \n",
      "\u001b[90m 8\u001b[39m B       9       B9            NF1       WT       1000         Scramb… 1      \n",
      "\u001b[90m 9\u001b[39m B       10      B10           NF1       WT       1000         Scramb… 1      \n",
      "\u001b[90m10\u001b[39m B       11      B11           NF1       WT       1000         None    1      \n",
      "\u001b[90m# ℹ 50 more rows\u001b[39m\n",
      "\u001b[90m# ℹ 1 more variable: Concentration <chr>\u001b[39m\n",
      "\n",
      "$plate5\n",
      "\u001b[90m# A tibble: 72 × 5\u001b[39m\n",
      "   WellRow WellCol well_position gene_name genotype\n",
      "   \u001b[3m\u001b[90m<chr>\u001b[39m\u001b[23m   \u001b[3m\u001b[90m<chr>\u001b[39m\u001b[23m   \u001b[3m\u001b[90m<chr>\u001b[39m\u001b[23m         \u001b[3m\u001b[90m<chr>\u001b[39m\u001b[23m     \u001b[3m\u001b[90m<chr>\u001b[39m\u001b[23m   \n",
      "\u001b[90m 1\u001b[39m B       1       B1            NF1       WT      \n",
      "\u001b[90m 2\u001b[39m C       1       C1            NF1       WT      \n",
      "\u001b[90m 3\u001b[39m D       1       D1            NF1       WT      \n",
      "\u001b[90m 4\u001b[39m E       1       E1            NF1       WT      \n",
      "\u001b[90m 5\u001b[39m F       1       F1            NF1       WT      \n",
      "\u001b[90m 6\u001b[39m G       1       G1            NF1       WT      \n",
      "\u001b[90m 7\u001b[39m B       2       B2            NF1       WT      \n",
      "\u001b[90m 8\u001b[39m C       2       C2            NF1       WT      \n",
      "\u001b[90m 9\u001b[39m D       2       D2            NF1       WT      \n",
      "\u001b[90m10\u001b[39m E       2       E2            NF1       WT      \n",
      "\u001b[90m# ℹ 62 more rows\u001b[39m\n",
      "\n",
      "$plate6\n",
      "\u001b[90m# A tibble: 60 × 7\u001b[39m\n",
      "   WellRow WellCol well_position gene_name genotype Institution seed_density\n",
      "   \u001b[3m\u001b[90m<chr>\u001b[39m\u001b[23m   \u001b[3m\u001b[90m<chr>\u001b[39m\u001b[23m   \u001b[3m\u001b[90m<chr>\u001b[39m\u001b[23m         \u001b[3m\u001b[90m<chr>\u001b[39m\u001b[23m     \u001b[3m\u001b[90m<chr>\u001b[39m\u001b[23m    \u001b[3m\u001b[90m<chr>\u001b[39m\u001b[23m       \u001b[3m\u001b[90m<chr>\u001b[39m\u001b[23m       \n",
      "\u001b[90m 1\u001b[39m B       2       B2            NF1       WT       iNFixion    1000        \n",
      "\u001b[90m 2\u001b[39m B       3       B3            NF1       WT       iNFixion    1000        \n",
      "\u001b[90m 3\u001b[39m B       4       B4            NF1       WT       iNFixion    1000        \n",
      "\u001b[90m 4\u001b[39m B       5       B5            NF1       WT       iNFixion    1000        \n",
      "\u001b[90m 5\u001b[39m B       6       B6            NF1       WT       iNFixion    1000        \n",
      "\u001b[90m 6\u001b[39m B       7       B7            NF1       WT       iNFixion    1000        \n",
      "\u001b[90m 7\u001b[39m B       8       B8            NF1       WT       iNFixion    1000        \n",
      "\u001b[90m 8\u001b[39m B       9       B9            NF1       WT       iNFixion    1000        \n",
      "\u001b[90m 9\u001b[39m B       10      B10           NF1       WT       iNFixion    1000        \n",
      "\u001b[90m10\u001b[39m B       11      B11           NF1       WT       iNFixion    1000        \n",
      "\u001b[90m# ℹ 50 more rows\u001b[39m\n",
      "\n"
     ]
    }
   ],
   "source": [
    "# Load in all platemap CSV files\n",
    "platemap_dfs <- list()\n",
    "for (plate in names(output_platemap_files)) {\n",
    "    # Find the umap file associated with the plate\n",
    "    platemap_file <- platemap_files[stringr::str_detect(platemap_files, plate)]\n",
    "    \n",
    "    # Load in the umap data\n",
    "    df <- readr::read_csv(\n",
    "    platemap_file,\n",
    "    col_types = readr::cols(.default = \"c\")\n",
    ")\n",
    "\n",
    "    platemap_dfs[[plate]] <- df \n",
    "}\n",
    "\n",
    "print(platemap_dfs)"
   ]
  },
  {
   "cell_type": "markdown",
   "metadata": {},
   "source": [
    "## Create platemap figures for only plates 1 and 2"
   ]
  },
  {
   "cell_type": "code",
   "execution_count": 4,
   "metadata": {
    "vscode": {
     "languageId": "r"
    }
   },
   "outputs": [
    {
     "name": "stderr",
     "output_type": "stream",
     "text": [
      "Warning message:\n",
      "“Warning: Your well label count ( 8 ) covers less than half the selected plate( 96 ).\n",
      "Are you sure argument 'plate' is correct for the number of wells in your data?\n",
      "note: Default is a 96-well plate.”\n",
      "Warning message:\n",
      "“Warning: Your well label count ( 32 ) covers less than half the selected plate( 96 ).\n",
      "Are you sure argument 'plate' is correct for the number of wells in your data?\n",
      "note: Default is a 96-well plate.”\n"
     ]
    }
   ],
   "source": [
    "for (plate in names(platemap_dfs)) {\n",
    "    if (plate %in% c(\"plate1\", \"plate2\")) {\n",
    "    # Get the updated plate name\n",
    "    updated_plate <- paste0(\"Plate \", as.numeric(gsub(\"plate\", \"\", plate)))\n",
    "\n",
    "    # output for each plate\n",
    "    output_file <- output_platemap_files[[plate]]\n",
    "    output_file <- paste0(output_file)\n",
    "    \n",
    "    platemap <-\n",
    "        platetools::raw_map(\n",
    "            data = platemap_dfs[[plate]]$genotype,\n",
    "            well = platemap_dfs[[plate]]$well_position,\n",
    "            plate = 96,\n",
    "            size = 8\n",
    "        ) +\n",
    "        ggtitle(paste(\"Platemap layout for\", updated_plate)) +\n",
    "        theme(plot.title = element_text(size = 10, face = \"bold\")) +\n",
    "        ggplot2::scale_fill_discrete(name = \"Genotype\") \n",
    "\n",
    "    ggsave(\n",
    "        output_file,\n",
    "        platemap,\n",
    "        dpi = 500,\n",
    "        height = 3.5,\n",
    "        width = 6\n",
    "    )\n",
    "    }\n",
    "}"
   ]
  },
  {
   "cell_type": "markdown",
   "metadata": {},
   "source": [
    "## Create platemap figure for only plate 3"
   ]
  },
  {
   "cell_type": "code",
   "execution_count": 5,
   "metadata": {
    "vscode": {
     "languageId": "r"
    }
   },
   "outputs": [],
   "source": [
    "for (plate in names(platemap_dfs)) {\n",
    "    if (plate %in% c(\"plate3\")) {\n",
    "    # Get the updated plate name\n",
    "    updated_plate <- paste0(\"Plate \", as.numeric(gsub(\"plate\", \"\", plate)))\n",
    "\n",
    "    # output for each plate\n",
    "    output_file <- output_platemap_files[[plate]]\n",
    "    output_file <- paste0(output_file)\n",
    "    \n",
    "    platemap <-\n",
    "        platetools::raw_map(\n",
    "            data = as.numeric(platemap_dfs[[plate]]$seed_density),\n",
    "            well = platemap_dfs[[plate]]$well_position,\n",
    "            plate = 96,\n",
    "            size = 8\n",
    "        ) +\n",
    "        ggtitle(paste(\"Platemap layout for\", updated_plate)) +\n",
    "        theme(plot.title = element_text(size = 10, face = \"bold\")) +\n",
    "        ggplot2::geom_point(aes(shape = platemap_dfs[[plate]]$genotype)) +\n",
    "        ggplot2::scale_shape_discrete(name = \"Genotype\") +\n",
    "        ggplot2::scale_fill_gradient2(\n",
    "        name = \"Seed Density\",\n",
    "        low = \"white\",\n",
    "        high = \"red\",\n",
    "        )  \n",
    "\n",
    "    ggsave(\n",
    "        output_file,\n",
    "        platemap,\n",
    "        dpi = 500,\n",
    "        height = 3.5,\n",
    "        width = 6\n",
    "    )\n",
    "    }\n",
    "}"
   ]
  },
  {
   "cell_type": "markdown",
   "metadata": {},
   "source": [
    "## Create platemap figure for only plate 4"
   ]
  },
  {
   "cell_type": "code",
   "execution_count": 6,
   "metadata": {
    "vscode": {
     "languageId": "r"
    }
   },
   "outputs": [],
   "source": [
    "for (plate in names(platemap_dfs)) {\n",
    "    if (plate %in% c(\"plate4\")) {\n",
    "    # Get the updated plate name\n",
    "    updated_plate <- paste0(\"Plate \", as.numeric(gsub(\"plate\", \"\", plate)))\n",
    "\n",
    "    # Remove .png extension and add new suffixes\n",
    "    filename_without_ext <- tools::file_path_sans_ext(output_platemap_files[[plate]])\n",
    "    output_file_genotype <- paste0(filename_without_ext, \"_genotype.png\")\n",
    "    output_file_dose <- paste0(filename_without_ext, \"_dose.png\")\n",
    "\n",
    "    # Platemap for genotype\n",
    "    platemap_genotype <- platetools::raw_map(\n",
    "        data = platemap_dfs[[plate]]$genotype,\n",
    "        well = platemap_dfs[[plate]]$well_position,\n",
    "        plate = 96,\n",
    "        size = 8\n",
    "    ) +\n",
    "    ggtitle(paste(\"Genotype platemap layout for\", updated_plate)) +\n",
    "    theme(plot.title = element_text(size = 10, face = \"bold\")) +\n",
    "    ggplot2::scale_fill_discrete(name = \"Genotype\")\n",
    "    \n",
    "    # Platemap for dose\n",
    "    platemap_dose <- platetools::raw_map(\n",
    "        data = as.character(platemap_dfs[[plate]]$Concentration),\n",
    "        well = platemap_dfs[[plate]]$well_position,\n",
    "        plate = 96,\n",
    "        size = 8\n",
    "    ) +\n",
    "    ggtitle(paste(\"siRNA treatment and dose platemap layout for\", updated_plate)) +\n",
    "    theme(plot.title = element_text(size = 10, face = \"bold\")) +\n",
    "    ggplot2::geom_point(aes(shape = platemap_dfs[[plate]]$siRNA)) +\n",
    "    ggplot2::scale_shape_discrete(name = \"siRNA Treatments\", limits = c(\"None\", \"Scramble\", \"NF1 Target 1\", \"NF1 Target 2\")) +\n",
    "    ggplot2::scale_fill_manual(\n",
    "        name = \"Concentrations (nM)\",\n",
    "        values = c(\"#eff6ef\", \"#b7deb7\", \"#56bc56\", \"#018301\", \"#015201\", \"#003800\"),\n",
    "        guide = guide_legend(override.aes = list(size = 5)),\n",
    "    ) +\n",
    "    theme(\n",
    "        legend.text = element_text(size = 5),\n",
    "        legend.title = element_text(size = 6),\n",
    "        legend.position = \"right\",\n",
    "        # move legend around so it fits better on the screen\n",
    "        legend.margin = margin(-10, 0, 10, 0)\n",
    "    )\n",
    "\n",
    "    # Saving the platemaps\n",
    "    ggsave(\n",
    "        output_file_genotype,\n",
    "        platemap_genotype,\n",
    "        dpi = 500,\n",
    "        height = 3.5,\n",
    "        width = 6\n",
    "    )\n",
    "    \n",
    "    ggsave(\n",
    "        output_file_dose,\n",
    "        platemap_dose,\n",
    "        dpi = 500,\n",
    "        height = 3.5,\n",
    "        width = 6\n",
    "    )\n",
    "    }\n",
    "}"
   ]
  },
  {
   "cell_type": "markdown",
   "metadata": {},
   "source": [
    "## Create platemap figure for only plate 5"
   ]
  },
  {
   "cell_type": "code",
   "execution_count": 7,
   "metadata": {
    "vscode": {
     "languageId": "r"
    }
   },
   "outputs": [],
   "source": [
    "for (plate in names(platemap_dfs)) {\n",
    "    if (plate %in% c(\"plate5\")) {\n",
    "    # Get the updated plate name\n",
    "    updated_plate <- paste0(\"Plate \", as.numeric(gsub(\"plate\", \"\", plate)))\n",
    "\n",
    "    # output for each plate\n",
    "    output_file <- output_platemap_files[[plate]]\n",
    "    output_file <- paste0(output_file)\n",
    "    \n",
    "    platemap <-\n",
    "        platetools::raw_map(\n",
    "            data = platemap_dfs[[plate]]$genotype,\n",
    "            well = platemap_dfs[[plate]]$well_position,\n",
    "            plate = 96,\n",
    "            size = 8\n",
    "        ) +\n",
    "        ggtitle(paste(\"Platemap layout for\", updated_plate)) +\n",
    "        theme(plot.title = element_text(size = 10, face = \"bold\")) +\n",
    "        ggplot2::scale_fill_discrete(name = \"Genotype\")  \n",
    "\n",
    "    ggsave(\n",
    "        output_file,\n",
    "        platemap,\n",
    "        dpi = 500,\n",
    "        height = 3.5,\n",
    "        width = 6\n",
    "    )\n",
    "    }\n",
    "}"
   ]
  },
  {
   "cell_type": "markdown",
   "metadata": {},
   "source": [
    "## Create platemap figure for only plate 6"
   ]
  },
  {
   "cell_type": "code",
   "execution_count": 8,
   "metadata": {
    "vscode": {
     "languageId": "r"
    }
   },
   "outputs": [],
   "source": [
    "for (plate in names(platemap_dfs)) {\n",
    "    if (plate == \"plate6\") {\n",
    "        # Get the updated plate name\n",
    "        updated_plate <- paste0(\"Plate \", as.numeric(gsub(\"plate\", \"\", plate)))\n",
    "\n",
    "        # Output for the plate\n",
    "        output_file <- output_platemap_files[[plate]]\n",
    "        output_file <- paste0(output_file)\n",
    "        \n",
    "        platemap <-\n",
    "            platetools::raw_map(\n",
    "                data = platemap_dfs[[plate]]$genotype,\n",
    "                well = platemap_dfs[[plate]]$well_position,\n",
    "                plate = 96,\n",
    "                size = 8\n",
    "            ) +\n",
    "            ggtitle(paste(\"Platemap layout for\", updated_plate)) +\n",
    "            theme(plot.title = element_text(size = 10, face = \"bold\")) +\n",
    "            ggplot2::scale_fill_discrete(name = \"Genotype\") +\n",
    "            ggplot2::geom_point(aes(shape = platemap_dfs[[plate]]$Institution)) +\n",
    "            ggplot2::scale_shape_discrete(name = \"Institution\\n(cell line)\")\n",
    "\n",
    "        ggsave(\n",
    "            output_file,\n",
    "            platemap,\n",
    "            dpi = 500,\n",
    "            height = 3.5,\n",
    "            width = 6\n",
    "        )\n",
    "    }\n",
    "}"
   ]
  }
 ],
 "metadata": {
  "kernelspec": {
   "display_name": "R",
   "language": "R",
   "name": "ir"
  },
  "language_info": {
   "codemirror_mode": "r",
   "file_extension": ".r",
   "mimetype": "text/x-r-source",
   "name": "R",
   "pygments_lexer": "r",
   "version": "4.2.2"
  },
  "orig_nbformat": 4
 },
 "nbformat": 4,
 "nbformat_minor": 2
}
