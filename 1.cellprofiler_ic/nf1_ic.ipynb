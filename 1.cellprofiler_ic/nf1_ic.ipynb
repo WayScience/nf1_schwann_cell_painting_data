{
 "cells": [
  {
   "attachments": {},
   "cell_type": "markdown",
   "metadata": {},
   "source": [
    "# Correct illumination and save images for each plate using CellProfiler Parallel"
   ]
  },
  {
   "attachments": {},
   "cell_type": "markdown",
   "metadata": {},
   "source": [
    "## Import libraries"
   ]
  },
  {
   "cell_type": "code",
   "execution_count": 1,
   "metadata": {},
   "outputs": [],
   "source": [
    "import pathlib\n",
    "import pprint\n",
    "\n",
    "import sys\n",
    "\n",
    "sys.path.append(\"../utils\")\n",
    "import cp_parallel"
   ]
  },
  {
   "attachments": {},
   "cell_type": "markdown",
   "metadata": {},
   "source": [
    "## Set paths and variables"
   ]
  },
  {
   "cell_type": "code",
   "execution_count": 2,
   "metadata": {},
   "outputs": [
    {
     "name": "stdout",
     "output_type": "stream",
     "text": [
      "['Plate_4', 'Plate_2', 'Plate_3_prime', 'Plate_6', 'Plate_5', 'Plate_1', 'Plate_3']\n"
     ]
    }
   ],
   "source": [
    "# set the run type for the parallelization\n",
    "run_name = \"illum_correction\"\n",
    "\n",
    "# Directory with pipelines\n",
    "pipeline_dir = pathlib.Path(\"./pipelines/\").resolve(strict=True)\n",
    "\n",
    "# set main output dir for all plates\n",
    "output_dir = pathlib.Path(\"./Corrected_Images\")\n",
    "output_dir.mkdir(exist_ok=True)\n",
    "\n",
    "# directory where images are located within folders\n",
    "images_dir = pathlib.Path(\"../0.download_data/\")\n",
    "\n",
    "# list for plate names based on folders to use to create dictionary\n",
    "plate_names = []\n",
    "# iterate through 0.download_data and append plate names from folder names that contain image data from that plate\n",
    "for file_path in pathlib.Path(\"../0.download_data/\").iterdir():\n",
    "    if str(file_path.stem).startswith(\"Plate\"):\n",
    "        plate_names.append(str(file_path.stem))\n",
    "\n",
    "print(plate_names)"
   ]
  },
  {
   "cell_type": "markdown",
   "metadata": {},
   "source": [
    "## Create dictionary with all info for each plate"
   ]
  },
  {
   "cell_type": "code",
   "execution_count": null,
   "metadata": {},
   "outputs": [
    {
     "name": "stdout",
     "output_type": "stream",
     "text": [
      "{   'Plate_6': {   'path_to_images': PosixPath('/media/18tbdrive/1.Github_Repositories/nf1_schwann_cell_painting_data/0.download_data/Plate_6'),\n",
      "                   'path_to_output': PosixPath('Corrected_Images/Corrected_Plate_6'),\n",
      "                   'path_to_pipeline': PosixPath('/media/18tbdrive/1.Github_Repositories/nf1_schwann_cell_painting_data/1.cellprofiler_ic/pipelines/NF1_illum_4channel.cppipe')}}\n"
     ]
    }
   ],
   "source": [
    "# create plate info dictionary with all parts of the CellProfiler CLI command to run in parallel\n",
    "plate_info_dictionary = {\n",
    "    name: {\n",
    "        \"path_to_images\": pathlib.Path(list(images_dir.rglob(name))[0]).resolve(\n",
    "            strict=True\n",
    "        ),\n",
    "        \"path_to_output\": pathlib.Path(f\"{output_dir}/Corrected_{name}\"),\n",
    "    }\n",
    "    for name in plate_names\n",
    "    if not any(\n",
    "        pathlib.Path(f\"{output_dir}/Corrected_{name}\").glob(\"*\")\n",
    "    )  # only add plates that have not been processed yet\n",
    "}\n",
    "\n",
    "# iterate over the dictionary and add the path_to_pipeline specific for each plate\n",
    "for name, info in plate_info_dictionary.items():\n",
    "    # only plates 1 and 2 have 3 channels so these are the only plates that use this path\n",
    "    if name == \"Plate_1\" or name == \"Plate_2\":\n",
    "        info[\"path_to_pipeline\"] = pathlib.Path(\n",
    "            f\"{pipeline_dir}/NF1_illum_3channel.cppipe\"\n",
    "        ).resolve(strict=True)\n",
    "    # all other plates have 4 channels and will use that specific pipeline\n",
    "    else:\n",
    "        info[\"path_to_pipeline\"] = pathlib.Path(\n",
    "            f\"{pipeline_dir}/NF1_illum_4channel.cppipe\"\n",
    "        ).resolve(strict=True)\n",
    "\n",
    "# view the dictionary to assess that all info is added correctly\n",
    "pprint.pprint(plate_info_dictionary, indent=4)"
   ]
  },
  {
   "attachments": {},
   "cell_type": "markdown",
   "metadata": {},
   "source": [
    "## Run illumination correction pipeline on each plate in parallel\n",
    "\n",
    "In this notebook, we do not run the cells to completion as we prefer to run the notebooks as nbconverted python files due to better stability."
   ]
  },
  {
   "cell_type": "code",
   "execution_count": null,
   "metadata": {},
   "outputs": [],
   "source": [
    "cp_parallel.run_cellprofiler_parallel(\n",
    "    plate_info_dictionary=plate_info_dictionary, run_name=run_name\n",
    ")"
   ]
  }
 ],
 "metadata": {
  "kernelspec": {
   "display_name": "nf1_cellpainting_data",
   "language": "python",
   "name": "python3"
  },
  "language_info": {
   "codemirror_mode": {
    "name": "ipython",
    "version": 3
   },
   "file_extension": ".py",
   "mimetype": "text/x-python",
   "name": "python",
   "nbconvert_exporter": "python",
   "pygments_lexer": "ipython3",
   "version": "3.8.19"
  },
  "orig_nbformat": 4
 },
 "nbformat": 4,
 "nbformat_minor": 2
}
