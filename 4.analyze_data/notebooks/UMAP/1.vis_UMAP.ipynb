{
 "cells": [
  {
   "cell_type": "markdown",
   "metadata": {},
   "source": [
    "# Visualize UMAPs"
   ]
  },
  {
   "cell_type": "markdown",
   "metadata": {},
   "source": [
    "## Import libraries"
   ]
  },
  {
   "cell_type": "code",
   "execution_count": 1,
   "metadata": {
    "vscode": {
     "languageId": "r"
    }
   },
   "outputs": [
    {
     "name": "stderr",
     "output_type": "stream",
     "text": [
      "Warning message:\n",
      "“package ‘ggplot2’ was built under R version 4.2.3”\n"
     ]
    }
   ],
   "source": [
    "suppressPackageStartupMessages(library(ggplot2)) #plotting\n",
    "suppressPackageStartupMessages(library(dplyr)) #work with data frames"
   ]
  },
  {
   "cell_type": "markdown",
   "metadata": {},
   "source": [
    "## Set up paths and variables"
   ]
  },
  {
   "cell_type": "code",
   "execution_count": 2,
   "metadata": {
    "vscode": {
     "languageId": "r"
    }
   },
   "outputs": [
    {
     "name": "stdout",
     "output_type": "stream",
     "text": [
      "[1] \"results/UMAP_concat_model_plates_sc_feature_selected.tsv\"\n",
      "[2] \"results/UMAP_Plate_1_sc_feature_selected.tsv\"            \n",
      "[3] \"results/UMAP_Plate_2_sc_feature_selected.tsv\"            \n",
      "[4] \"results/UMAP_Plate_3_prime_sc_feature_selected.tsv\"      \n",
      "[5] \"results/UMAP_Plate_3_sc_feature_selected.tsv\"            \n",
      "[6] \"results/UMAP_Plate_4_sc_feature_selected.tsv\"            \n",
      "[7] \"results/UMAP_Plate_5_sc_feature_selected.tsv\"            \n",
      "[8] \"results/UMAP_Plate_6_sc_feature_selected.tsv\"            \n",
      "[9] \"results/UMAP_Plate_6_sc_only_model_features.tsv\"         \n",
      "$concat_model_plates\n",
      "[1] \"figures/UMAP_concat_model_plates\"\n",
      "\n",
      "$Plate_1\n",
      "[1] \"figures/UMAP_Plate_1\"\n",
      "\n",
      "$Plate_2\n",
      "[1] \"figures/UMAP_Plate_2\"\n",
      "\n",
      "$Plate_3_prime\n",
      "[1] \"figures/UMAP_Plate_3_prime\"\n",
      "\n",
      "$Plate_3\n",
      "[1] \"figures/UMAP_Plate_3\"\n",
      "\n",
      "$Plate_4\n",
      "[1] \"figures/UMAP_Plate_4\"\n",
      "\n",
      "$Plate_5\n",
      "[1] \"figures/UMAP_Plate_5\"\n",
      "\n",
      "$Plate_6\n",
      "[1] \"figures/UMAP_Plate_6\"\n",
      "\n",
      "$Plate_6_sc_only_model_features\n",
      "[1] \"figures/UMAP_Plate_6_sc_only_model_features\"\n",
      "\n"
     ]
    }
   ],
   "source": [
    "# Set directory and file structure\n",
    "umap_dir <- file.path(\"results\")\n",
    "umap_files <- list.files(umap_dir, pattern = \"\\\\.tsv$\", full.names = TRUE)\n",
    "print(umap_files)\n",
    "\n",
    "output_fig_dir <- file.path(\"figures\")\n",
    "umap_prefix <- \"UMAP_\"\n",
    "plate_suffix <- \"_sc_feature_selected.tsv\"\n",
    "alt_plate_suffix <- \"_sc_only_model_features.tsv\"\n",
    "\n",
    "# Define output figure paths as a dictionary where each plate has a figure output path\n",
    "output_umap_files <- list()\n",
    "for (umap_file in umap_files) {\n",
    "    # Extract file name\n",
    "    file_name <- basename(umap_file)\n",
    "    \n",
    "    # Determine plate name based on file suffix\n",
    "    if (stringr::str_detect(file_name, plate_suffix)) {\n",
    "        plate <- stringr::str_remove(stringr::str_remove(file_name, umap_prefix), plate_suffix)\n",
    "    } else if (stringr::str_detect(file_name, alt_plate_suffix)) {\n",
    "        plate <- stringr::str_remove(stringr::str_remove(file_name, umap_prefix), alt_plate_suffix)\n",
    "        if (plate == \"Plate_6\") {\n",
    "            plate <- \"Plate_6_sc_only_model_features\"  # Explicit rename for the new file\n",
    "        }\n",
    "    } else {\n",
    "        next  # Skip files that don't match expected patterns\n",
    "    }\n",
    "\n",
    "    # Store in dictionary\n",
    "    output_umap_files[[plate]] <- file.path(output_fig_dir, paste0(umap_prefix, plate))\n",
    "}\n",
    "\n",
    "print(output_umap_files)"
   ]
  },
  {
   "cell_type": "markdown",
   "metadata": {},
   "source": [
    "## Load in UMAP data frames"
   ]
  },
  {
   "cell_type": "code",
   "execution_count": 3,
   "metadata": {
    "vscode": {
     "languageId": "r"
    }
   },
   "outputs": [
    {
     "name": "stdout",
     "output_type": "stream",
     "text": [
      "[1] \"Loading file for plate: concat_model_plates File path: results/UMAP_concat_model_plates_sc_feature_selected.tsv\"\n",
      "[1] \"Loading file for plate: Plate_1 File path: results/UMAP_Plate_1_sc_feature_selected.tsv\"\n",
      "[1] \"Loading file for plate: Plate_2 File path: results/UMAP_Plate_2_sc_feature_selected.tsv\"\n",
      "[1] \"Loading file for plate: Plate_3_prime File path: results/UMAP_Plate_3_prime_sc_feature_selected.tsv\"\n",
      "[1] \"Loading file for plate: Plate_3 File path: results/UMAP_Plate_3_prime_sc_feature_selected.tsv\"\n",
      "[2] \"Loading file for plate: Plate_3 File path: results/UMAP_Plate_3_sc_feature_selected.tsv\"      \n",
      "[1] \"Loading file for plate: Plate_4 File path: results/UMAP_Plate_4_sc_feature_selected.tsv\"\n",
      "[1] \"Loading file for plate: Plate_5 File path: results/UMAP_Plate_5_sc_feature_selected.tsv\"\n",
      "[1] \"Loading file for plate: Plate_6 File path: results/UMAP_Plate_6_sc_feature_selected.tsv\"   \n",
      "[2] \"Loading file for plate: Plate_6 File path: results/UMAP_Plate_6_sc_only_model_features.tsv\"\n",
      "[1] \"Loading file for plate: Plate_6_sc_only_model_features File path: results/UMAP_Plate_6_sc_only_model_features.tsv\"\n"
     ]
    }
   ],
   "source": [
    "# Load data\n",
    "umap_cp_df <- list()\n",
    "for (plate in names(output_umap_files)) {\n",
    "    # Find the umap file associated with the plate\n",
    "    umap_file <- umap_files[stringr::str_detect(umap_files, plate)]\n",
    "    print(paste(\"Loading file for plate:\", plate, \"File path:\", umap_file))\n",
    "    \n",
    "    # Load in the umap data\n",
    "    df <- readr::read_tsv(\n",
    "        umap_file,\n",
    "        col_types = readr::cols(\n",
    "            .default = \"d\",\n",
    "            \"Metadata_Plate\" = \"c\",\n",
    "            \"Metadata_Well\" = \"c\",\n",
    "            \"Metadata_Site\" = \"c\",\n",
    "            \"Metadata_number_of_singlecells\" = \"d\",\n",
    "            \"Metadata_genotype\" = \"c\"\n",
    "        )\n",
    "    )\n",
    "\n",
    "    # Append the data frame to the list\n",
    "    umap_cp_df[[plate]] <- df \n",
    "\n",
    "    # Remove rows with Metadata_Plate == \"Plate_3_prime\" if plate is Plate_3 (error when loading in the data)\n",
    "    if (plate == \"Plate_3\") {\n",
    "        umap_cp_df[[plate]] <- umap_cp_df[[plate]][umap_cp_df[[plate]]$Metadata_Plate != \"Plate_3_prime\", ]\n",
    "    }\n",
    "\n",
    "    # Remove rows with Metadata_Plate == \"Plate_6_filtered\" if plate is Plate_6 (error when loading in the data)\n",
    "    if (plate == \"Plate_6\") {\n",
    "        umap_cp_df[[plate]] <- umap_cp_df[[plate]][umap_cp_df[[plate]]$Metadata_Plate != \"Plate_6_filtered\", ]\n",
    "    }\n",
    "}"
   ]
  },
  {
   "cell_type": "markdown",
   "metadata": {},
   "source": [
    "## Generate cell count and genotype labelled UMAPs per plate"
   ]
  },
  {
   "cell_type": "code",
   "execution_count": 4,
   "metadata": {
    "vscode": {
     "languageId": "r"
    }
   },
   "outputs": [],
   "source": [
    "for (plate in names(umap_cp_df)) {\n",
    "    # Remove rows with NaNs\n",
    "    umap_data <- na.omit(umap_cp_df[[plate]])\n",
    "\n",
    "    # Genotype UMAP file path\n",
    "    genotype_output_file <- paste0(output_umap_files[[plate]], \"_genotype.png\")\n",
    "\n",
    "    # UMAP labeled with genotype\n",
    "    genotype_gg <- (\n",
    "        ggplot(umap_data, aes(x = UMAP0, y = UMAP1))\n",
    "        + geom_point(\n",
    "            aes(color = Metadata_genotype), size = 1.2, alpha = 0.6\n",
    "        )\n",
    "        + theme_bw()\n",
    "        + scale_color_manual(\n",
    "            name = \"Genotype\",\n",
    "            values = c(\"Null\" = \"#BA5A31\", \"WT\" = \"#32be73\")\n",
    "        )\n",
    "    )\n",
    "    \n",
    "    ggsave(genotype_output_file, genotype_gg, dpi = 500, height = 6, width = 6)\n",
    "\n",
    "    # UMAP labeled with cell count\n",
    "    cell_count_output_file <- paste0(output_umap_files[[plate]], \"_cell_count.png\")\n",
    "    \n",
    "    umap_cell_count_gg <- (\n",
    "        ggplot(umap_data, aes(x = UMAP0, y = UMAP1))\n",
    "        + geom_point(\n",
    "            aes(color = Metadata_number_of_singlecells), size = 1.2, alpha = 0.6\n",
    "        )\n",
    "        + theme_bw()\n",
    "        + theme(\n",
    "            strip.background = element_rect(colour = \"black\", fill = \"#fdfff4\")\n",
    "        )\n",
    "        + scale_color_continuous(name = \"Number of\\nsingle cells\\nper well\")\n",
    "    )\n",
    "\n",
    "    ggsave(cell_count_output_file, umap_cell_count_gg, dpi = 500, height = 6, width = 6)\n",
    "}"
   ]
  },
  {
   "cell_type": "markdown",
   "metadata": {},
   "source": [
    "## For Plate 4, generate facet UMAP with siRNA constructs"
   ]
  },
  {
   "cell_type": "code",
   "execution_count": 5,
   "metadata": {
    "vscode": {
     "languageId": "r"
    }
   },
   "outputs": [],
   "source": [
    "# For only plate 4, look at labelling the constructs to see if there is any clustering\n",
    "# Load the data frame\n",
    "platemap_df <- read.csv(\"../../../0.download_data/metadata/platemap_NF1_plate4.csv\")\n",
    "\n",
    "# Subset the data frame and rename columns\n",
    "platemap_df <- platemap_df[, c(\"well_position\", \"siRNA\", \"Concentration\")]\n",
    "colnames(platemap_df) <- c(\"Metadata_Well\", \"Metadata_siRNA\", \"Metadata_dose\")\n",
    "\n",
    "# Set the 0 dose to NA to make grey in the plot\n",
    "platemap_df <- platemap_df %>%\n",
    "mutate(Metadata_dose = ifelse(Metadata_dose == 0, NA, Metadata_dose))\n",
    "\n",
    "# Select plate 4 file path from list of umap files\n",
    "plate_4_path <- umap_files[[6]]\n",
    "\n",
    "# Load in the umap data for plate 4 only\n",
    "df <- readr::read_tsv(\n",
    "    plate_4_path,\n",
    "    col_types = readr::cols(\n",
    "        .default = \"d\",\n",
    "        \"Metadata_Plate\" = \"c\",\n",
    "        \"Metadata_Well\" = \"c\",\n",
    "        \"Metadata_Site\" = \"c\",\n",
    "        \"Metadata_number_of_singlecells\" = \"c\",\n",
    "        \"Metadata_genotype\" = \"c\"\n",
    "    )\n",
    ")\n",
    "\n",
    "# Merge siRNA info onto UMAP df\n",
    "combined_df <- platemap_df %>% inner_join(df, by = \"Metadata_Well\")\n",
    "\n",
    "# siRNA construct UMAP\n",
    "output_file <- \"./figures/UMAP_Plate_4_siRNA_construct.png\"\n",
    "\n",
    "# UMAP faceted by siRNA treatment and labeled with dose\n",
    "umap_siRNA_construct_gg <- (\n",
    "    ggplot(combined_df, aes(x = UMAP0, y = UMAP1))\n",
    "    + geom_point(\n",
    "            aes(color = Metadata_dose), size = 2, alpha = 0.5\n",
    "    )\n",
    "    + theme_bw()\n",
    "    + scale_color_gradient(\n",
    "            name = \"Dose (nM)\",\n",
    "            low = \"#feaaa3\", high = \"#ee2711\",\n",
    "            na.value = \"#727272\"\n",
    "        )\n",
    "    + facet_wrap(~ Metadata_siRNA, drop = FALSE)\n",
    ")\n",
    "\n",
    "ggsave(output_file, umap_siRNA_construct_gg, dpi = 500, height = 6, width = 6)"
   ]
  },
  {
   "cell_type": "markdown",
   "metadata": {},
   "source": [
    "## For Plate 6 feature selected and only model features, generate UMAPs labeled by the institution of the cell line"
   ]
  },
  {
   "cell_type": "code",
   "execution_count": 6,
   "metadata": {
    "vscode": {
     "languageId": "r"
    }
   },
   "outputs": [],
   "source": [
    "# Load the platemap data frame for Plate 6\n",
    "platemap_df <- read.csv(\"../../../0.download_data/metadata/platemap_NF1_plate6.csv\")\n",
    "\n",
    "# Subset the data frame and rename columns\n",
    "platemap_df <- platemap_df[, c(\"well_position\", \"Institution\")]\n",
    "colnames(platemap_df) <- c(\"Metadata_Well\", \"Metadata_Institution\")\n",
    "\n",
    "# Define the two Plate 6 UMAP file paths\n",
    "plate_6_paths <- umap_files[grepl(\"UMAP_Plate_6\", umap_files)]\n",
    "\n",
    "# Loop through each of the Plate 6 UMAP files\n",
    "for (plate_6_path in plate_6_paths) {\n",
    "    \n",
    "    # Load in the UMAP data for the current Plate 6 file\n",
    "    df <- readr::read_tsv(\n",
    "        plate_6_path,\n",
    "        col_types = readr::cols(\n",
    "            .default = \"d\",\n",
    "            \"Metadata_Plate\" = \"c\",\n",
    "            \"Metadata_Well\" = \"c\",\n",
    "            \"Metadata_Site\" = \"c\",\n",
    "            \"Metadata_number_of_singlecells\" = \"c\",\n",
    "            \"Metadata_genotype\" = \"c\"\n",
    "        )\n",
    "    )\n",
    "    \n",
    "    # Merge institution info onto UMAP df\n",
    "    combined_df <- platemap_df %>% inner_join(df, by = \"Metadata_Well\")\n",
    "    \n",
    "    # Define the output file name based on the current Plate 6 file\n",
    "    output_file <- paste0(\n",
    "        \"./figures/\", \n",
    "        gsub(\"Plate_6_sc_feature_selected\", \"Plate_6\", tools::file_path_sans_ext(basename(plate_6_path))),  # Handle the Plate_6_sc_feature_selected condition and remove .tsv\n",
    "        \"_institution.png\"\n",
    "    )\n",
    "\n",
    "    \n",
    "    # Create UMAP plot labeled with institution\n",
    "    umap_institution_gg <- (\n",
    "        ggplot(combined_df, aes(x = UMAP0, y = UMAP1))\n",
    "        + geom_point(\n",
    "                aes(color = Metadata_Institution), size = 1.5, alpha = 0.3\n",
    "        )\n",
    "        + theme_bw()\n",
    "        + scale_color_discrete(name = \"Institution\")\n",
    "    )\n",
    "    \n",
    "    # Save the plot with a specific output filename\n",
    "    ggsave(output_file, umap_institution_gg, dpi = 500, height = 6, width = 6)\n",
    "}"
   ]
  },
  {
   "cell_type": "markdown",
   "metadata": {},
   "source": [
    "## From merged data, generate UMAP with plate labeled"
   ]
  },
  {
   "cell_type": "code",
   "execution_count": 7,
   "metadata": {
    "vscode": {
     "languageId": "r"
    }
   },
   "outputs": [],
   "source": [
    "# Select concat plate file path from list of umap files\n",
    "concat_plate_path <- umap_files[[1]]\n",
    "\n",
    "# Load in the umap data for plate 4 only\n",
    "df <- readr::read_tsv(\n",
    "    concat_plate_path,\n",
    "    col_types = readr::cols(\n",
    "        .default = \"d\",\n",
    "        \"Metadata_Plate\" = \"c\",\n",
    "        \"Metadata_Well\" = \"c\",\n",
    "        \"Metadata_Site\" = \"c\",\n",
    "        \"Metadata_number_of_singlecells\" = \"c\",\n",
    "        \"Metadata_genotype\" = \"c\"\n",
    "    )\n",
    ")\n",
    "\n",
    "# Plate UMAP\n",
    "output_file <- \"./figures/UMAP_concat_model_plate.png\"\n",
    "\n",
    "# UMAP labeled with plate\n",
    "umap_plate_gg <- (\n",
    "    ggplot(df, aes(x = UMAP0, y = UMAP1))\n",
    "    + geom_point(\n",
    "            aes(color = Metadata_Plate), size = 1.2, alpha = 0.5\n",
    "    )\n",
    "    + theme_bw()\n",
    "    + scale_color_manual(\n",
    "        name = \"Plate\",\n",
    "        values = c(\"Plate_3\" = \"#7570b3\", \"Plate_3_prime\" = \"#e7298a\", \"Plate_5\" = \"#d95f02\", \"Plate_4\" = \"#39e729\")\n",
    "    )\n",
    ")\n",
    "\n",
    "ggsave(output_file, umap_plate_gg, dpi = 500, height = 6, width = 6)\n"
   ]
  }
 ],
 "metadata": {
  "kernelspec": {
   "display_name": "R",
   "language": "R",
   "name": "ir"
  },
  "language_info": {
   "codemirror_mode": "r",
   "file_extension": ".r",
   "mimetype": "text/x-r-source",
   "name": "R",
   "pygments_lexer": "r",
   "version": "4.2.2"
  }
 },
 "nbformat": 4,
 "nbformat_minor": 2
}
