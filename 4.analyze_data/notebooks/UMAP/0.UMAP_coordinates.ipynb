{
 "cells": [
  {
   "cell_type": "markdown",
   "metadata": {},
   "source": [
    "# Generate UMAP coordinates for each plate"
   ]
  },
  {
   "cell_type": "markdown",
   "metadata": {},
   "source": [
    "## Import libraries"
   ]
  },
  {
   "cell_type": "code",
   "execution_count": null,
   "metadata": {},
   "outputs": [],
   "source": [
    "import glob\n",
    "import pathlib\n",
    "import pandas as pd\n",
    "import umap\n",
    "\n",
    "from pycytominer import feature_select\n",
    "from pycytominer.cyto_utils import infer_cp_features"
   ]
  },
  {
   "cell_type": "markdown",
   "metadata": {},
   "source": [
    "## Set constants"
   ]
  },
  {
   "cell_type": "code",
   "execution_count": null,
   "metadata": {},
   "outputs": [],
   "source": [
    "# Set constants\n",
    "umap_random_seed = 0\n",
    "umap_n_components = 2\n",
    "\n",
    "output_dir = pathlib.Path(\"results\")\n",
    "output_dir.mkdir(parents=True, exist_ok=True)"
   ]
  },
  {
   "cell_type": "markdown",
   "metadata": {},
   "source": [
    "## Create list of paths to feature selected data per plate"
   ]
  },
  {
   "cell_type": "code",
   "execution_count": null,
   "metadata": {},
   "outputs": [
    {
     "data": {
      "text/plain": [
       "['../../../3.processing_features/data/single_cell_profiles/Plate_5_sc_feature_selected.parquet',\n",
       " '../../../3.processing_features/data/single_cell_profiles/Plate_3_sc_feature_selected.parquet',\n",
       " '../../../3.processing_features/data/single_cell_profiles/Plate_1_sc_feature_selected.parquet',\n",
       " '../../../3.processing_features/data/single_cell_profiles/Plate_4_sc_feature_selected.parquet',\n",
       " '../../../3.processing_features/data/single_cell_profiles/Plate_3_prime_sc_feature_selected.parquet',\n",
       " '../../../3.processing_features/data/single_cell_profiles/Plate_2_sc_feature_selected.parquet',\n",
       " '../../../3.processing_features/data/single_cell_profiles/Plate_6_sc_feature_selected.parquet']"
      ]
     },
     "execution_count": 3,
     "metadata": {},
     "output_type": "execute_result"
    }
   ],
   "source": [
    "# Set input paths\n",
    "data_dir = pathlib.Path(\"../../../3.processing_features/data/single_cell_profiles/\")\n",
    "\n",
    "# Select only the feature selected files\n",
    "file_suffix = \"*sc_feature_selected.parquet\"\n",
    "\n",
    "# Obtain file paths for all feature selected plates\n",
    "fs_files = glob.glob(f\"{data_dir}/{file_suffix}\")\n",
    "fs_files"
   ]
  },
  {
   "cell_type": "code",
   "execution_count": null,
   "metadata": {},
   "outputs": [
    {
     "name": "stdout",
     "output_type": "stream",
     "text": [
      "dict_keys(['Plate_5_sc_feature_selected.parquet', 'Plate_3_sc_feature_selected.parquet', 'Plate_1_sc_feature_selected.parquet', 'Plate_4_sc_feature_selected.parquet', 'Plate_3_prime_sc_feature_selected.parquet', 'Plate_2_sc_feature_selected.parquet', 'Plate_6_sc_feature_selected.parquet'])\n"
     ]
    },
    {
     "data": {
      "text/plain": [
       "[(5793, 1174),\n",
       " (11286, 1171),\n",
       " (241, 849),\n",
       " (7308, 1163),\n",
       " (5506, 1146),\n",
       " (1714, 856),\n",
       " (7383, 1152)]"
      ]
     },
     "execution_count": 4,
     "metadata": {},
     "output_type": "execute_result"
    }
   ],
   "source": [
    "# Load feature data into a dictionary, keyed on plate name\n",
    "cp_dfs = {x.split(\"/\")[-1]: pd.read_parquet(x) for x in fs_files}\n",
    "\n",
    "# Print out useful information about each dataset\n",
    "print(cp_dfs.keys())\n",
    "[cp_dfs[x].shape for x in cp_dfs]"
   ]
  },
  {
   "cell_type": "markdown",
   "metadata": {},
   "source": [
    "## Generate UMAP coordinates for each plate\n",
    "\n",
    "**Note:** Only metadata that is common between plates are included in final data frame."
   ]
  },
  {
   "cell_type": "code",
   "execution_count": null,
   "metadata": {},
   "outputs": [
    {
     "name": "stdout",
     "output_type": "stream",
     "text": [
      "UMAP embeddings being generated for Plate_5_sc_feature_selected\n"
     ]
    },
    {
     "name": "stderr",
     "output_type": "stream",
     "text": [
      "/home/jenna/mambaforge/envs/nf1_preprocessing_env/lib/python3.9/site-packages/sklearn/utils/deprecation.py:151: FutureWarning: 'force_all_finite' was renamed to 'ensure_all_finite' in 1.6 and will be removed in 1.8.\n",
      "  warnings.warn(\n",
      "/home/jenna/mambaforge/envs/nf1_preprocessing_env/lib/python3.9/site-packages/umap/umap_.py:1952: UserWarning: n_jobs value 1 overridden to 1 by setting random_state. Use no seed for parallelism.\n",
      "  warn(\n"
     ]
    },
    {
     "name": "stdout",
     "output_type": "stream",
     "text": [
      "(5793, 2)\n",
      "UMAP embeddings being generated for Plate_3_sc_feature_selected\n"
     ]
    },
    {
     "name": "stderr",
     "output_type": "stream",
     "text": [
      "/home/jenna/mambaforge/envs/nf1_preprocessing_env/lib/python3.9/site-packages/sklearn/utils/deprecation.py:151: FutureWarning: 'force_all_finite' was renamed to 'ensure_all_finite' in 1.6 and will be removed in 1.8.\n",
      "  warnings.warn(\n",
      "/home/jenna/mambaforge/envs/nf1_preprocessing_env/lib/python3.9/site-packages/umap/umap_.py:1952: UserWarning: n_jobs value 1 overridden to 1 by setting random_state. Use no seed for parallelism.\n",
      "  warn(\n"
     ]
    },
    {
     "name": "stdout",
     "output_type": "stream",
     "text": [
      "(11286, 2)\n",
      "UMAP embeddings being generated for Plate_1_sc_feature_selected\n"
     ]
    },
    {
     "name": "stderr",
     "output_type": "stream",
     "text": [
      "/home/jenna/mambaforge/envs/nf1_preprocessing_env/lib/python3.9/site-packages/sklearn/utils/deprecation.py:151: FutureWarning: 'force_all_finite' was renamed to 'ensure_all_finite' in 1.6 and will be removed in 1.8.\n",
      "  warnings.warn(\n",
      "/home/jenna/mambaforge/envs/nf1_preprocessing_env/lib/python3.9/site-packages/umap/umap_.py:1952: UserWarning: n_jobs value 1 overridden to 1 by setting random_state. Use no seed for parallelism.\n",
      "  warn(\n"
     ]
    },
    {
     "name": "stdout",
     "output_type": "stream",
     "text": [
      "(241, 2)\n",
      "UMAP embeddings being generated for Plate_4_sc_feature_selected\n"
     ]
    },
    {
     "name": "stderr",
     "output_type": "stream",
     "text": [
      "/home/jenna/mambaforge/envs/nf1_preprocessing_env/lib/python3.9/site-packages/sklearn/utils/deprecation.py:151: FutureWarning: 'force_all_finite' was renamed to 'ensure_all_finite' in 1.6 and will be removed in 1.8.\n",
      "  warnings.warn(\n",
      "/home/jenna/mambaforge/envs/nf1_preprocessing_env/lib/python3.9/site-packages/umap/umap_.py:1952: UserWarning: n_jobs value 1 overridden to 1 by setting random_state. Use no seed for parallelism.\n",
      "  warn(\n"
     ]
    },
    {
     "name": "stdout",
     "output_type": "stream",
     "text": [
      "(7308, 2)\n",
      "UMAP embeddings being generated for Plate_3_prime_sc_feature_selected\n"
     ]
    },
    {
     "name": "stderr",
     "output_type": "stream",
     "text": [
      "/home/jenna/mambaforge/envs/nf1_preprocessing_env/lib/python3.9/site-packages/sklearn/utils/deprecation.py:151: FutureWarning: 'force_all_finite' was renamed to 'ensure_all_finite' in 1.6 and will be removed in 1.8.\n",
      "  warnings.warn(\n",
      "/home/jenna/mambaforge/envs/nf1_preprocessing_env/lib/python3.9/site-packages/umap/umap_.py:1952: UserWarning: n_jobs value 1 overridden to 1 by setting random_state. Use no seed for parallelism.\n",
      "  warn(\n"
     ]
    },
    {
     "name": "stdout",
     "output_type": "stream",
     "text": [
      "(5506, 2)\n",
      "UMAP embeddings being generated for Plate_2_sc_feature_selected\n"
     ]
    },
    {
     "name": "stderr",
     "output_type": "stream",
     "text": [
      "/home/jenna/mambaforge/envs/nf1_preprocessing_env/lib/python3.9/site-packages/sklearn/utils/deprecation.py:151: FutureWarning: 'force_all_finite' was renamed to 'ensure_all_finite' in 1.6 and will be removed in 1.8.\n",
      "  warnings.warn(\n",
      "/home/jenna/mambaforge/envs/nf1_preprocessing_env/lib/python3.9/site-packages/umap/umap_.py:1952: UserWarning: n_jobs value 1 overridden to 1 by setting random_state. Use no seed for parallelism.\n",
      "  warn(\n"
     ]
    },
    {
     "name": "stdout",
     "output_type": "stream",
     "text": [
      "(1714, 2)\n",
      "UMAP embeddings being generated for Plate_6_sc_feature_selected\n"
     ]
    },
    {
     "name": "stderr",
     "output_type": "stream",
     "text": [
      "/home/jenna/mambaforge/envs/nf1_preprocessing_env/lib/python3.9/site-packages/sklearn/utils/deprecation.py:151: FutureWarning: 'force_all_finite' was renamed to 'ensure_all_finite' in 1.6 and will be removed in 1.8.\n",
      "  warnings.warn(\n",
      "/home/jenna/mambaforge/envs/nf1_preprocessing_env/lib/python3.9/site-packages/umap/umap_.py:1952: UserWarning: n_jobs value 1 overridden to 1 by setting random_state. Use no seed for parallelism.\n",
      "  warn(\n"
     ]
    },
    {
     "name": "stdout",
     "output_type": "stream",
     "text": [
      "(7383, 2)\n"
     ]
    }
   ],
   "source": [
    "desired_columns = [\n",
    "    \"Metadata_Plate\",\n",
    "    \"Metadata_Well\",\n",
    "    \"Metadata_Site\",\n",
    "    \"Metadata_number_of_singlecells\",\n",
    "    \"Metadata_genotype\",\n",
    "]\n",
    "\n",
    "# Fit UMAP features per dataset and save\n",
    "for plate in cp_dfs:\n",
    "    plate_name = pathlib.Path(plate).stem\n",
    "    print(\"UMAP embeddings being generated for\", plate_name)\n",
    "\n",
    "    # Make sure to reinitialize UMAP instance per plate\n",
    "    umap_fit = umap.UMAP(random_state=umap_random_seed, n_components=umap_n_components)\n",
    "\n",
    "    # Make sure NA columns have been removed\n",
    "    cp_df = cp_dfs[plate]\n",
    "    cp_df = feature_select(cp_df, operation=\"drop_na_columns\", na_cutoff=0)\n",
    "\n",
    "    # Make sure that the Plate_3_prime has correct name in Metadata_Plate column\n",
    "    if plate_name.replace(\"_sc_feature_selected\", \"\") == \"Plate_3_prime\":\n",
    "        cp_df[\"Metadata_Plate\"] = \"Plate_3_prime\"\n",
    "\n",
    "    # Remove rows with genotype HET for Plate_5\n",
    "    if plate_name.replace(\"_sc_feature_selected\", \"\") == \"Plate_5\":\n",
    "        cp_df = cp_df[cp_df[\"Metadata_genotype\"] != \"HET\"]\n",
    "\n",
    "    # Process cp_df to separate features and metadata\n",
    "    cp_features = infer_cp_features(cp_df)\n",
    "    meta_features = infer_cp_features(cp_df, metadata=True)\n",
    "    filtered_meta_features = [\n",
    "        feature for feature in meta_features if feature in desired_columns\n",
    "    ]\n",
    "\n",
    "    # Fit UMAP and convert to pandas DataFrame\n",
    "    embeddings = pd.DataFrame(\n",
    "        umap_fit.fit_transform(cp_df.loc[:, cp_features]),\n",
    "        columns=[f\"UMAP{x}\" for x in range(0, umap_n_components)],\n",
    "    )\n",
    "    print(embeddings.shape)\n",
    "\n",
    "    # Combine with metadata\n",
    "    cp_umap_with_metadata_df = pd.concat(\n",
    "        [cp_df.loc[:, filtered_meta_features].reset_index(drop=True), embeddings],\n",
    "        axis=1,\n",
    "    )\n",
    "\n",
    "    # randomize the rows of the dataframe to plot the order of the data evenly\n",
    "    cp_umap_with_metadata_df = cp_umap_with_metadata_df.sample(frac=1, random_state=0)\n",
    "\n",
    "    # Generate output file and save\n",
    "    output_umap_file = pathlib.Path(output_dir, f\"UMAP_{plate_name}.tsv\")\n",
    "    cp_umap_with_metadata_df.to_csv(output_umap_file, index=False, sep=\"\\t\")"
   ]
  },
  {
   "cell_type": "code",
   "execution_count": null,
   "metadata": {},
   "outputs": [
    {
     "name": "stdout",
     "output_type": "stream",
     "text": [
      "(7383, 7)\n"
     ]
    },
    {
     "data": {
      "text/html": [
       "<div>\n",
       "<style scoped>\n",
       "    .dataframe tbody tr th:only-of-type {\n",
       "        vertical-align: middle;\n",
       "    }\n",
       "\n",
       "    .dataframe tbody tr th {\n",
       "        vertical-align: top;\n",
       "    }\n",
       "\n",
       "    .dataframe thead th {\n",
       "        text-align: right;\n",
       "    }\n",
       "</style>\n",
       "<table border=\"1\" class=\"dataframe\">\n",
       "  <thead>\n",
       "    <tr style=\"text-align: right;\">\n",
       "      <th></th>\n",
       "      <th>Metadata_Well</th>\n",
       "      <th>Metadata_Site</th>\n",
       "      <th>Metadata_number_of_singlecells</th>\n",
       "      <th>Metadata_genotype</th>\n",
       "      <th>Metadata_Plate</th>\n",
       "      <th>UMAP0</th>\n",
       "      <th>UMAP1</th>\n",
       "    </tr>\n",
       "  </thead>\n",
       "  <tbody>\n",
       "    <tr>\n",
       "      <th>6307</th>\n",
       "      <td>G2</td>\n",
       "      <td>10</td>\n",
       "      <td>114</td>\n",
       "      <td>Null</td>\n",
       "      <td>Plate_6</td>\n",
       "      <td>13.606967</td>\n",
       "      <td>3.857197</td>\n",
       "    </tr>\n",
       "    <tr>\n",
       "      <th>5036</th>\n",
       "      <td>F5</td>\n",
       "      <td>27</td>\n",
       "      <td>189</td>\n",
       "      <td>HET</td>\n",
       "      <td>Plate_6</td>\n",
       "      <td>13.040964</td>\n",
       "      <td>4.806100</td>\n",
       "    </tr>\n",
       "    <tr>\n",
       "      <th>1995</th>\n",
       "      <td>D3</td>\n",
       "      <td>2</td>\n",
       "      <td>55</td>\n",
       "      <td>Null</td>\n",
       "      <td>Plate_6</td>\n",
       "      <td>14.647306</td>\n",
       "      <td>-1.431455</td>\n",
       "    </tr>\n",
       "    <tr>\n",
       "      <th>4156</th>\n",
       "      <td>E11</td>\n",
       "      <td>20</td>\n",
       "      <td>232</td>\n",
       "      <td>WT</td>\n",
       "      <td>Plate_6</td>\n",
       "      <td>11.372808</td>\n",
       "      <td>3.504234</td>\n",
       "    </tr>\n",
       "    <tr>\n",
       "      <th>6328</th>\n",
       "      <td>G2</td>\n",
       "      <td>10</td>\n",
       "      <td>114</td>\n",
       "      <td>Null</td>\n",
       "      <td>Plate_6</td>\n",
       "      <td>12.755859</td>\n",
       "      <td>3.256218</td>\n",
       "    </tr>\n",
       "  </tbody>\n",
       "</table>\n",
       "</div>"
      ],
      "text/plain": [
       "     Metadata_Well Metadata_Site  Metadata_number_of_singlecells  \\\n",
       "6307            G2            10                             114   \n",
       "5036            F5            27                             189   \n",
       "1995            D3             2                              55   \n",
       "4156           E11            20                             232   \n",
       "6328            G2            10                             114   \n",
       "\n",
       "     Metadata_genotype Metadata_Plate      UMAP0     UMAP1  \n",
       "6307              Null        Plate_6  13.606967  3.857197  \n",
       "5036               HET        Plate_6  13.040964  4.806100  \n",
       "1995              Null        Plate_6  14.647306 -1.431455  \n",
       "4156                WT        Plate_6  11.372808  3.504234  \n",
       "6328              Null        Plate_6  12.755859  3.256218  "
      ]
     },
     "execution_count": 6,
     "metadata": {},
     "output_type": "execute_result"
    }
   ],
   "source": [
    "# Print an example output file\n",
    "print(cp_umap_with_metadata_df.shape)\n",
    "cp_umap_with_metadata_df.head()"
   ]
  },
  {
   "cell_type": "markdown",
   "metadata": {},
   "source": [
    "## Create UMAP embeddings with the plates used to the train the model combined"
   ]
  },
  {
   "cell_type": "code",
   "execution_count": null,
   "metadata": {},
   "outputs": [],
   "source": [
    "# Select file paths for plates 5, 3, and 3 prime only\n",
    "selected_plates = [\"Plate_5\", \"Plate_3\", \"Plate_3_prime\"]\n",
    "\n",
    "# Filter and concatenate the selected plates\n",
    "selected_dfs = []\n",
    "for file_path in fs_files:\n",
    "    plate_name = pathlib.Path(file_path).stem.replace(\"_sc_feature_selected\", \"\")\n",
    "\n",
    "    # Only read in selected plates\n",
    "    if plate_name in selected_plates:\n",
    "        df = pd.read_parquet(file_path)\n",
    "\n",
    "        selected_dfs.append(df)"
   ]
  },
  {
   "cell_type": "code",
   "execution_count": null,
   "metadata": {},
   "outputs": [
    {
     "data": {
      "text/plain": [
       "907"
      ]
     },
     "execution_count": 8,
     "metadata": {},
     "output_type": "execute_result"
    }
   ],
   "source": [
    "# Get the column names of all DataFrames in selected_dfs\n",
    "column_sets = [set(df.columns) for df in selected_dfs]\n",
    "\n",
    "# Find the common column names across all DataFrames\n",
    "common_columns = list(set.intersection(*column_sets))\n",
    "\n",
    "# Exclude columns that start with \"Metadata\" to print the number of features\n",
    "feature_columns = [col for col in common_columns if not col.startswith(\"Metadata\")]\n",
    "\n",
    "# Print length of only features\n",
    "len(feature_columns)"
   ]
  },
  {
   "cell_type": "markdown",
   "metadata": {},
   "source": [
    "### Save all plate data features together as parquet file"
   ]
  },
  {
   "cell_type": "code",
   "execution_count": null,
   "metadata": {},
   "outputs": [
    {
     "name": "stdout",
     "output_type": "stream",
     "text": [
      "(22585, 924)\n"
     ]
    },
    {
     "data": {
      "text/html": [
       "<div>\n",
       "<style scoped>\n",
       "    .dataframe tbody tr th:only-of-type {\n",
       "        vertical-align: middle;\n",
       "    }\n",
       "\n",
       "    .dataframe tbody tr th {\n",
       "        vertical-align: top;\n",
       "    }\n",
       "\n",
       "    .dataframe thead th {\n",
       "        text-align: right;\n",
       "    }\n",
       "</style>\n",
       "<table border=\"1\" class=\"dataframe\">\n",
       "  <thead>\n",
       "    <tr style=\"text-align: right;\">\n",
       "      <th></th>\n",
       "      <th>Cytoplasm_RadialDistribution_ZernikeMagnitude_CY5_8_6</th>\n",
       "      <th>Cytoplasm_RadialDistribution_ZernikePhase_DAPI_7_7</th>\n",
       "      <th>Cells_Texture_Correlation_DAPI_3_02_256</th>\n",
       "      <th>Cytoplasm_RadialDistribution_ZernikeMagnitude_RFP_9_1</th>\n",
       "      <th>Nuclei_RadialDistribution_ZernikeMagnitude_DAPI_4_4</th>\n",
       "      <th>Nuclei_RadialDistribution_ZernikeMagnitude_DAPI_9_9</th>\n",
       "      <th>Cytoplasm_RadialDistribution_ZernikePhase_CY5_6_4</th>\n",
       "      <th>Cytoplasm_RadialDistribution_ZernikeMagnitude_RFP_4_0</th>\n",
       "      <th>Cells_Neighbors_FirstClosestDistance_Adjacent</th>\n",
       "      <th>Cytoplasm_RadialDistribution_ZernikeMagnitude_CY5_4_0</th>\n",
       "      <th>...</th>\n",
       "      <th>Cells_RadialDistribution_ZernikePhase_GFP_8_4</th>\n",
       "      <th>Nuclei_Correlation_Overlap_CY5_DAPI</th>\n",
       "      <th>Cytoplasm_RadialDistribution_ZernikePhase_DAPI_6_6</th>\n",
       "      <th>Nuclei_RadialDistribution_ZernikeMagnitude_CY5_8_6</th>\n",
       "      <th>Cells_RadialDistribution_ZernikeMagnitude_RFP_6_0</th>\n",
       "      <th>Nuclei_Intensity_MinIntensityEdge_GFP</th>\n",
       "      <th>Cytoplasm_RadialDistribution_ZernikePhase_CY5_3_3</th>\n",
       "      <th>Cytoplasm_RadialDistribution_ZernikePhase_DAPI_8_2</th>\n",
       "      <th>Nuclei_RadialDistribution_ZernikeMagnitude_RFP_9_1</th>\n",
       "      <th>Cytoplasm_AreaShape_MinorAxisLength</th>\n",
       "    </tr>\n",
       "  </thead>\n",
       "  <tbody>\n",
       "    <tr>\n",
       "      <th>0</th>\n",
       "      <td>0.265286</td>\n",
       "      <td>1.677765</td>\n",
       "      <td>0.076674</td>\n",
       "      <td>0.267877</td>\n",
       "      <td>-0.952152</td>\n",
       "      <td>-0.021434</td>\n",
       "      <td>-0.028600</td>\n",
       "      <td>-0.730467</td>\n",
       "      <td>-0.682761</td>\n",
       "      <td>-0.676159</td>\n",
       "      <td>...</td>\n",
       "      <td>-1.460473</td>\n",
       "      <td>0.367525</td>\n",
       "      <td>-0.034545</td>\n",
       "      <td>0.527203</td>\n",
       "      <td>-1.008854</td>\n",
       "      <td>1.977849</td>\n",
       "      <td>1.094638</td>\n",
       "      <td>1.301773</td>\n",
       "      <td>-0.033985</td>\n",
       "      <td>0.665844</td>\n",
       "    </tr>\n",
       "    <tr>\n",
       "      <th>1</th>\n",
       "      <td>-0.594315</td>\n",
       "      <td>-0.354020</td>\n",
       "      <td>0.288133</td>\n",
       "      <td>-0.424730</td>\n",
       "      <td>-0.696601</td>\n",
       "      <td>-0.776204</td>\n",
       "      <td>-1.484421</td>\n",
       "      <td>-0.042732</td>\n",
       "      <td>3.063331</td>\n",
       "      <td>0.538387</td>\n",
       "      <td>...</td>\n",
       "      <td>0.255279</td>\n",
       "      <td>1.491258</td>\n",
       "      <td>-1.552236</td>\n",
       "      <td>0.134838</td>\n",
       "      <td>0.568971</td>\n",
       "      <td>1.074115</td>\n",
       "      <td>0.399387</td>\n",
       "      <td>0.733389</td>\n",
       "      <td>0.293142</td>\n",
       "      <td>-0.187398</td>\n",
       "    </tr>\n",
       "    <tr>\n",
       "      <th>2</th>\n",
       "      <td>-0.754955</td>\n",
       "      <td>-0.339014</td>\n",
       "      <td>0.352881</td>\n",
       "      <td>-0.876690</td>\n",
       "      <td>-0.435444</td>\n",
       "      <td>0.129837</td>\n",
       "      <td>0.027724</td>\n",
       "      <td>0.050477</td>\n",
       "      <td>-0.490331</td>\n",
       "      <td>-0.064076</td>\n",
       "      <td>...</td>\n",
       "      <td>-1.451149</td>\n",
       "      <td>-0.651553</td>\n",
       "      <td>-0.271857</td>\n",
       "      <td>0.385662</td>\n",
       "      <td>-0.353175</td>\n",
       "      <td>0.174312</td>\n",
       "      <td>-1.006240</td>\n",
       "      <td>-1.515276</td>\n",
       "      <td>-0.655531</td>\n",
       "      <td>0.709797</td>\n",
       "    </tr>\n",
       "    <tr>\n",
       "      <th>3</th>\n",
       "      <td>0.605487</td>\n",
       "      <td>-1.537686</td>\n",
       "      <td>-0.224682</td>\n",
       "      <td>0.478217</td>\n",
       "      <td>0.821912</td>\n",
       "      <td>-0.348275</td>\n",
       "      <td>0.294595</td>\n",
       "      <td>0.884025</td>\n",
       "      <td>-0.490331</td>\n",
       "      <td>0.307380</td>\n",
       "      <td>...</td>\n",
       "      <td>-1.548780</td>\n",
       "      <td>0.509328</td>\n",
       "      <td>0.924358</td>\n",
       "      <td>-0.433322</td>\n",
       "      <td>1.578459</td>\n",
       "      <td>0.464376</td>\n",
       "      <td>-0.931100</td>\n",
       "      <td>1.332815</td>\n",
       "      <td>1.479997</td>\n",
       "      <td>-0.872115</td>\n",
       "    </tr>\n",
       "    <tr>\n",
       "      <th>4</th>\n",
       "      <td>-0.785451</td>\n",
       "      <td>-0.061756</td>\n",
       "      <td>0.473039</td>\n",
       "      <td>-1.056220</td>\n",
       "      <td>-0.078474</td>\n",
       "      <td>-0.479195</td>\n",
       "      <td>0.472753</td>\n",
       "      <td>-0.619875</td>\n",
       "      <td>3.180456</td>\n",
       "      <td>-0.939778</td>\n",
       "      <td>...</td>\n",
       "      <td>1.729036</td>\n",
       "      <td>1.298129</td>\n",
       "      <td>-0.346023</td>\n",
       "      <td>0.021050</td>\n",
       "      <td>-0.824535</td>\n",
       "      <td>0.547177</td>\n",
       "      <td>1.706737</td>\n",
       "      <td>0.805289</td>\n",
       "      <td>-0.760059</td>\n",
       "      <td>1.363364</td>\n",
       "    </tr>\n",
       "  </tbody>\n",
       "</table>\n",
       "<p>5 rows × 924 columns</p>\n",
       "</div>"
      ],
      "text/plain": [
       "   Cytoplasm_RadialDistribution_ZernikeMagnitude_CY5_8_6  \\\n",
       "0                                           0.265286       \n",
       "1                                          -0.594315       \n",
       "2                                          -0.754955       \n",
       "3                                           0.605487       \n",
       "4                                          -0.785451       \n",
       "\n",
       "   Cytoplasm_RadialDistribution_ZernikePhase_DAPI_7_7  \\\n",
       "0                                           1.677765    \n",
       "1                                          -0.354020    \n",
       "2                                          -0.339014    \n",
       "3                                          -1.537686    \n",
       "4                                          -0.061756    \n",
       "\n",
       "   Cells_Texture_Correlation_DAPI_3_02_256  \\\n",
       "0                                 0.076674   \n",
       "1                                 0.288133   \n",
       "2                                 0.352881   \n",
       "3                                -0.224682   \n",
       "4                                 0.473039   \n",
       "\n",
       "   Cytoplasm_RadialDistribution_ZernikeMagnitude_RFP_9_1  \\\n",
       "0                                           0.267877       \n",
       "1                                          -0.424730       \n",
       "2                                          -0.876690       \n",
       "3                                           0.478217       \n",
       "4                                          -1.056220       \n",
       "\n",
       "   Nuclei_RadialDistribution_ZernikeMagnitude_DAPI_4_4  \\\n",
       "0                                          -0.952152     \n",
       "1                                          -0.696601     \n",
       "2                                          -0.435444     \n",
       "3                                           0.821912     \n",
       "4                                          -0.078474     \n",
       "\n",
       "   Nuclei_RadialDistribution_ZernikeMagnitude_DAPI_9_9  \\\n",
       "0                                          -0.021434     \n",
       "1                                          -0.776204     \n",
       "2                                           0.129837     \n",
       "3                                          -0.348275     \n",
       "4                                          -0.479195     \n",
       "\n",
       "   Cytoplasm_RadialDistribution_ZernikePhase_CY5_6_4  \\\n",
       "0                                          -0.028600   \n",
       "1                                          -1.484421   \n",
       "2                                           0.027724   \n",
       "3                                           0.294595   \n",
       "4                                           0.472753   \n",
       "\n",
       "   Cytoplasm_RadialDistribution_ZernikeMagnitude_RFP_4_0  \\\n",
       "0                                          -0.730467       \n",
       "1                                          -0.042732       \n",
       "2                                           0.050477       \n",
       "3                                           0.884025       \n",
       "4                                          -0.619875       \n",
       "\n",
       "   Cells_Neighbors_FirstClosestDistance_Adjacent  \\\n",
       "0                                      -0.682761   \n",
       "1                                       3.063331   \n",
       "2                                      -0.490331   \n",
       "3                                      -0.490331   \n",
       "4                                       3.180456   \n",
       "\n",
       "   Cytoplasm_RadialDistribution_ZernikeMagnitude_CY5_4_0  ...  \\\n",
       "0                                          -0.676159      ...   \n",
       "1                                           0.538387      ...   \n",
       "2                                          -0.064076      ...   \n",
       "3                                           0.307380      ...   \n",
       "4                                          -0.939778      ...   \n",
       "\n",
       "   Cells_RadialDistribution_ZernikePhase_GFP_8_4  \\\n",
       "0                                      -1.460473   \n",
       "1                                       0.255279   \n",
       "2                                      -1.451149   \n",
       "3                                      -1.548780   \n",
       "4                                       1.729036   \n",
       "\n",
       "   Nuclei_Correlation_Overlap_CY5_DAPI  \\\n",
       "0                             0.367525   \n",
       "1                             1.491258   \n",
       "2                            -0.651553   \n",
       "3                             0.509328   \n",
       "4                             1.298129   \n",
       "\n",
       "   Cytoplasm_RadialDistribution_ZernikePhase_DAPI_6_6  \\\n",
       "0                                          -0.034545    \n",
       "1                                          -1.552236    \n",
       "2                                          -0.271857    \n",
       "3                                           0.924358    \n",
       "4                                          -0.346023    \n",
       "\n",
       "  Nuclei_RadialDistribution_ZernikeMagnitude_CY5_8_6  \\\n",
       "0                                           0.527203   \n",
       "1                                           0.134838   \n",
       "2                                           0.385662   \n",
       "3                                          -0.433322   \n",
       "4                                           0.021050   \n",
       "\n",
       "   Cells_RadialDistribution_ZernikeMagnitude_RFP_6_0  \\\n",
       "0                                          -1.008854   \n",
       "1                                           0.568971   \n",
       "2                                          -0.353175   \n",
       "3                                           1.578459   \n",
       "4                                          -0.824535   \n",
       "\n",
       "   Nuclei_Intensity_MinIntensityEdge_GFP  \\\n",
       "0                               1.977849   \n",
       "1                               1.074115   \n",
       "2                               0.174312   \n",
       "3                               0.464376   \n",
       "4                               0.547177   \n",
       "\n",
       "   Cytoplasm_RadialDistribution_ZernikePhase_CY5_3_3  \\\n",
       "0                                           1.094638   \n",
       "1                                           0.399387   \n",
       "2                                          -1.006240   \n",
       "3                                          -0.931100   \n",
       "4                                           1.706737   \n",
       "\n",
       "   Cytoplasm_RadialDistribution_ZernikePhase_DAPI_8_2  \\\n",
       "0                                           1.301773    \n",
       "1                                           0.733389    \n",
       "2                                          -1.515276    \n",
       "3                                           1.332815    \n",
       "4                                           0.805289    \n",
       "\n",
       "   Nuclei_RadialDistribution_ZernikeMagnitude_RFP_9_1  \\\n",
       "0                                          -0.033985    \n",
       "1                                           0.293142    \n",
       "2                                          -0.655531    \n",
       "3                                           1.479997    \n",
       "4                                          -0.760059    \n",
       "\n",
       "   Cytoplasm_AreaShape_MinorAxisLength  \n",
       "0                             0.665844  \n",
       "1                            -0.187398  \n",
       "2                             0.709797  \n",
       "3                            -0.872115  \n",
       "4                             1.363364  \n",
       "\n",
       "[5 rows x 924 columns]"
      ]
     },
     "execution_count": 9,
     "metadata": {},
     "output_type": "execute_result"
    }
   ],
   "source": [
    "# Filter each DataFrame in selected_dfs to include only common columns\n",
    "selected_dfs_filtered = [df.loc[:, common_columns] for df in selected_dfs]\n",
    "\n",
    "# Concatenate the filtered dataframes along the rows\n",
    "concatenated_df = pd.concat(selected_dfs_filtered, ignore_index=True)\n",
    "\n",
    "# Save the concatenated dataframe to a file\n",
    "output_concatenated_file = pathlib.Path(\n",
    "    output_dir, \"concatenated_norm_fs_plates_5_3_3prime.parquet\"\n",
    ")\n",
    "concatenated_df.to_parquet(output_concatenated_file, index=False)\n",
    "\n",
    "print(concatenated_df.shape)\n",
    "concatenated_df.head()"
   ]
  },
  {
   "cell_type": "code",
   "execution_count": null,
   "metadata": {},
   "outputs": [
    {
     "name": "stderr",
     "output_type": "stream",
     "text": [
      "/home/jenna/mambaforge/envs/nf1_preprocessing_env/lib/python3.9/site-packages/sklearn/utils/deprecation.py:151: FutureWarning: 'force_all_finite' was renamed to 'ensure_all_finite' in 1.6 and will be removed in 1.8.\n",
      "  warnings.warn(\n",
      "/home/jenna/mambaforge/envs/nf1_preprocessing_env/lib/python3.9/site-packages/umap/umap_.py:1952: UserWarning: n_jobs value 1 overridden to 1 by setting random_state. Use no seed for parallelism.\n",
      "  warn(\n"
     ]
    },
    {
     "name": "stdout",
     "output_type": "stream",
     "text": [
      "(22585, 2)\n"
     ]
    }
   ],
   "source": [
    "desired_columns = [\n",
    "    \"Metadata_Plate\",\n",
    "    \"Metadata_Well\",\n",
    "    \"Metadata_Site\",\n",
    "    \"Metadata_number_of_singlecells\",\n",
    "    \"Metadata_genotype\",\n",
    "]\n",
    "\n",
    "# Make sure to reinitialize UMAP instance\n",
    "umap_fit = umap.UMAP(random_state=umap_random_seed, n_components=umap_n_components)\n",
    "\n",
    "# Process cp_df to separate features and metadata\n",
    "cp_features = infer_cp_features(concatenated_df)\n",
    "meta_features = infer_cp_features(concatenated_df, metadata=True)\n",
    "filtered_meta_features = [\n",
    "    feature for feature in meta_features if feature in desired_columns\n",
    "]\n",
    "\n",
    "# Fit UMAP and convert to pandas DataFrame\n",
    "embeddings = pd.DataFrame(\n",
    "    umap_fit.fit_transform(concatenated_df.loc[:, cp_features]),\n",
    "    columns=[f\"UMAP{x}\" for x in range(0, umap_n_components)],\n",
    ")\n",
    "print(embeddings.shape)\n",
    "\n",
    "# Combine with metadata\n",
    "cp_umap_with_metadata_df = pd.concat(\n",
    "    [concatenated_df.loc[:, filtered_meta_features], embeddings], axis=1\n",
    ")\n",
    "\n",
    "# randomize the rows of the dataframe to plot the order of the data evenly\n",
    "cp_umap_with_metadata_df = cp_umap_with_metadata_df.sample(frac=1, random_state=0)\n",
    "\n",
    "# Generate output file and save\n",
    "output_umap_file = pathlib.Path(\n",
    "    output_dir, f\"UMAP_concat_model_plates_sc_feature_selected.tsv\"\n",
    ")\n",
    "cp_umap_with_metadata_df.to_csv(output_umap_file, index=False, sep=\"\\t\")"
   ]
  }
 ],
 "metadata": {
  "kernelspec": {
   "display_name": "nf1_preprocessing_env",
   "language": "python",
   "name": "python3"
  },
  "language_info": {
   "codemirror_mode": {
    "name": "ipython",
    "version": 3
   },
   "file_extension": ".py",
   "mimetype": "text/x-python",
   "name": "python",
   "nbconvert_exporter": "python",
   "pygments_lexer": "ipython3",
   "version": "3.9.12"
  }
 },
 "nbformat": 4,
 "nbformat_minor": 2
}
