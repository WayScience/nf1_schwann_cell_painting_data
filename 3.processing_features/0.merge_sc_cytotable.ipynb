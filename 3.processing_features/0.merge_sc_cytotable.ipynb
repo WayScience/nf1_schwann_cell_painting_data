{
 "cells": [
  {
   "cell_type": "markdown",
   "metadata": {},
   "source": [
    "# Merge single cells from CellProfiler outputs using CytoTable"
   ]
  },
  {
   "cell_type": "markdown",
   "metadata": {},
   "source": [
    "## Import libraries"
   ]
  },
  {
   "cell_type": "code",
   "execution_count": 1,
   "metadata": {},
   "outputs": [],
   "source": [
    "import sys\n",
    "import pathlib\n",
    "import yaml\n",
    "import pprint\n",
    "import pandas as pd\n",
    "\n",
    "# cytotable will merge objects from SQLite file into single cells and save as parquet file\n",
    "from cytotable import convert, presets\n",
    "\n",
    "# import utility to use function that will add single-cell count per well as a metadata column\n",
    "sys.path.append(\"../utils\")\n",
    "import extraction_utils as sc_utils"
   ]
  },
  {
   "cell_type": "markdown",
   "metadata": {},
   "source": [
    "## Set paths and variables"
   ]
  },
  {
   "cell_type": "code",
   "execution_count": 2,
   "metadata": {},
   "outputs": [
    {
     "name": "stdout",
     "output_type": "stream",
     "text": [
      "['Plate_4', 'Plate_2', 'Plate_3_prime', 'Plate_6', 'Plate_5', 'Plate_1', 'Plate_3']\n"
     ]
    }
   ],
   "source": [
    "# type of file output from CytoTable (currently only parquet)\n",
    "dest_datatype = \"parquet\"\n",
    "\n",
    "# preset configurations based on typical CellProfiler outputs\n",
    "preset = \"cellprofiler_sqlite_pycytominer\"\n",
    "\n",
    "# update preset to include site metadata and cell counts\n",
    "joins = presets.config[\"cellprofiler_sqlite_pycytominer\"][\"CONFIG_JOINS\"].replace(\n",
    "    \"Image_Metadata_Well,\",\n",
    "    \"Image_Metadata_Well, Image_Metadata_Site,\",\n",
    ")\n",
    "\n",
    "# Add the PathName columns separately\n",
    "joins = joins.replace(\n",
    "    \"COLUMNS('Image_FileName_.*'),\",\n",
    "    \"COLUMNS('Image_FileName_.*'),\\n COLUMNS('Image_PathName_.*'),\"\n",
    ")\n",
    "\n",
    "# set main output dir for all parquet files\n",
    "output_dir = pathlib.Path(\"./data/converted_data/\")\n",
    "output_dir.mkdir(exist_ok=True)\n",
    "\n",
    "# directory where SQLite files are located\n",
    "sqlite_dir = pathlib.Path(\"../2.cellprofiler_analysis/analysis_output/\")\n",
    "\n",
    "# list for plate names based on folders to use to create dictionary\n",
    "plate_names = []\n",
    "\n",
    "# iterate through 0.download_data and append plate names from folder names\n",
    "# that contain image data from that plate\n",
    "# (Note, you must first run `0.download_data/download_plates.ipynb`)\n",
    "for file_path in pathlib.Path(\"../0.download_data/\").iterdir():\n",
    "    if str(file_path.stem).startswith(\"Plate\"):\n",
    "        plate_names.append(str(file_path.stem))\n",
    "\n",
    "print(plate_names)"
   ]
  },
  {
   "cell_type": "markdown",
   "metadata": {},
   "source": [
    "## Create dictionary with info for each plate\n",
    "\n",
    "**Note:** All paths must be string to use with CytoTable."
   ]
  },
  {
   "cell_type": "code",
   "execution_count": 3,
   "metadata": {},
   "outputs": [
    {
     "name": "stdout",
     "output_type": "stream",
     "text": [
      "{   'Plate_3': {   'dest_path': 'data/converted_data/Plate_3.parquet',\n",
      "                   'source_path': '/media/18tbdrive/1.Github_Repositories/nf1_schwann_cell_painting_data/2.cellprofiler_analysis/analysis_output/Plate_3/Plate_3_nf1_analysis.sqlite'},\n",
      "    'Plate_3_prime': {   'dest_path': 'data/converted_data/Plate_3_prime.parquet',\n",
      "                         'source_path': '/media/18tbdrive/1.Github_Repositories/nf1_schwann_cell_painting_data/2.cellprofiler_analysis/analysis_output/Plate_3_prime/Plate_3_prime_nf1_analysis.sqlite'},\n",
      "    'Plate_5': {   'dest_path': 'data/converted_data/Plate_5.parquet',\n",
      "                   'source_path': '/media/18tbdrive/1.Github_Repositories/nf1_schwann_cell_painting_data/2.cellprofiler_analysis/analysis_output/Plate_5/Plate_5_nf1_analysis.sqlite'},\n",
      "    'Plate_6': {   'dest_path': 'data/converted_data/Plate_6.parquet',\n",
      "                   'source_path': '/media/18tbdrive/1.Github_Repositories/nf1_schwann_cell_painting_data/2.cellprofiler_analysis/analysis_output/Plate_6/Plate_6_nf1_analysis.sqlite'}}\n"
     ]
    }
   ],
   "source": [
    "# create plate info dictionary with all parts of the CellProfiler CLI command to run in parallel\n",
    "plate_info_dictionary = {\n",
    "    name: {\n",
    "        \"source_path\": str(\n",
    "            pathlib.Path(\n",
    "                list(sqlite_dir.rglob(f\"{name}_nf1_analysis.sqlite\"))[0]\n",
    "            ).resolve(strict=True)\n",
    "        ),\n",
    "        \"dest_path\": str(pathlib.Path(f\"{output_dir}/{name}.parquet\")),\n",
    "    }\n",
    "    for name in plate_names\n",
    "    if not pathlib.Path(\n",
    "        f\"{output_dir}/{name}.parquet\"\n",
    "    ).exists()  # skip if parquet file exists\n",
    "}\n",
    "\n",
    "# view the dictionary to assess that all info is added correctly\n",
    "pprint.pprint(plate_info_dictionary, indent=4)"
   ]
  },
  {
   "cell_type": "markdown",
   "metadata": {},
   "source": [
    "## Merge objects to single cells and convert SQLite to parquet file + add single cell metadata"
   ]
  },
  {
   "cell_type": "code",
   "execution_count": 4,
   "metadata": {},
   "outputs": [
    {
     "name": "stdout",
     "output_type": "stream",
     "text": [
      "Performing merge single cells and conversion on Plate_3_prime!\n",
      "Merged and converted Plate_3_prime.parquet!\n"
     ]
    },
    {
     "name": "stderr",
     "output_type": "stream",
     "text": [
      "Reusing previously loaded Parsl configuration.\n"
     ]
    },
    {
     "name": "stdout",
     "output_type": "stream",
     "text": [
      "Added single cell count as metadata to Plate_3_prime.parquet!\n",
      "Performing merge single cells and conversion on Plate_6!\n",
      "Merged and converted Plate_6.parquet!\n"
     ]
    },
    {
     "name": "stderr",
     "output_type": "stream",
     "text": [
      "Reusing previously loaded Parsl configuration.\n"
     ]
    },
    {
     "name": "stdout",
     "output_type": "stream",
     "text": [
      "Added single cell count as metadata to Plate_6.parquet!\n",
      "Performing merge single cells and conversion on Plate_5!\n",
      "Merged and converted Plate_5.parquet!\n"
     ]
    },
    {
     "name": "stderr",
     "output_type": "stream",
     "text": [
      "Reusing previously loaded Parsl configuration.\n"
     ]
    },
    {
     "name": "stdout",
     "output_type": "stream",
     "text": [
      "Added single cell count as metadata to Plate_5.parquet!\n",
      "Performing merge single cells and conversion on Plate_3!\n",
      "Merged and converted Plate_3.parquet!\n",
      "Added single cell count as metadata to Plate_3.parquet!\n"
     ]
    }
   ],
   "source": [
    "# run through each run with each set of paths based on dictionary\n",
    "for plate, info in plate_info_dictionary.items():\n",
    "    source_path = info[\"source_path\"]\n",
    "    dest_path = info[\"dest_path\"]\n",
    "\n",
    "    print(f\"Performing merge single cells and conversion on {plate}!\")\n",
    "\n",
    "    # merge single cells and output as parquet file\n",
    "    convert(\n",
    "        source_path=source_path,\n",
    "        dest_path=dest_path,\n",
    "        dest_datatype=dest_datatype,\n",
    "        preset=preset,\n",
    "        joins=joins,\n",
    "    )\n",
    "    print(f\"Merged and converted {pathlib.Path(dest_path).name}!\")\n",
    "\n",
    "    # add single cell count per well as metadata column to parquet file and save back to same path\n",
    "    sc_utils.add_sc_count_metadata_file(\n",
    "        data_path=dest_path, well_column_name=\"Image_Metadata_Well\", file_type=\"parquet\"\n",
    "    )\n",
    "\n",
    "    print(f\"Added single cell count as metadata to {pathlib.Path(dest_path).name}!\")"
   ]
  },
  {
   "cell_type": "markdown",
   "metadata": {},
   "source": [
    "## Update the files to remove NA rows added as artifacts of CytoTable"
   ]
  },
  {
   "cell_type": "code",
   "execution_count": 5,
   "metadata": {},
   "outputs": [
    {
     "name": "stdout",
     "output_type": "stream",
     "text": [
      "No NaNs found in 'Metadata_ImageNumber' column for Plate_3_prime\n",
      "No NaNs found in 'Metadata_ImageNumber' column for Plate_6\n",
      "No NaNs found in 'Metadata_ImageNumber' column for Plate_5\n",
      "No NaNs found in 'Metadata_ImageNumber' column for Plate_3\n"
     ]
    }
   ],
   "source": [
    "for plate, info in plate_info_dictionary.items():\n",
    "    file_path = pathlib.Path(info[\"dest_path\"])\n",
    "\n",
    "    # Load the DataFrame from the Parquet file\n",
    "    df = pd.read_parquet(file_path)\n",
    "\n",
    "    # assert that there are column names with PathName and FileName in the dataset\n",
    "    assert any(\"PathName\" in col or \"FileName\" in col for col in df.columns)\n",
    "\n",
    "    # Check for NaNs in \"Metadata_ImageNumber\" column\n",
    "    if df[\"Metadata_ImageNumber\"].isna().any():\n",
    "        print(f\"NaNs found in 'Metadata_ImageNumber' column for {plate}\")\n",
    "        # If any, drop rows where \"Metadata_ImageNumber\" is NaN (artifact of cytotable)\n",
    "        df = df.dropna(subset=[\"Metadata_ImageNumber\"])\n",
    "    else:\n",
    "        print(f\"No NaNs found in 'Metadata_ImageNumber' column for {plate}\")\n",
    "\n",
    "    # Columns to rename with Metadata prefix\n",
    "    columns_to_rename = [\n",
    "        \"Nuclei_Location_Center_X\",\n",
    "        \"Nuclei_Location_Center_Y\",\n",
    "        \"Cells_Location_Center_X\",\n",
    "        \"Cells_Location_Center_Y\",\n",
    "    ]\n",
    "\n",
    "    # Rename columns with \"Metadata_\" prefix\n",
    "    df = df.rename(\n",
    "        columns=lambda col: \"Metadata_\" + col if col in columns_to_rename else col\n",
    "    )\n",
    "\n",
    "    # Move all columns that start with \"Image_\" or \"Metadata_\" to the front\n",
    "    metadata_columns = [col for col in df.columns if col.startswith(\"Image_\") or col.startswith(\"Metadata_\")]\n",
    "    other_columns = [col for col in df.columns if col not in metadata_columns]\n",
    "    df = df[metadata_columns + other_columns]\n",
    "\n",
    "    # Save the processed DataFrame as Parquet in the same path\n",
    "    df.to_parquet(file_path, index=False)"
   ]
  },
  {
   "cell_type": "markdown",
   "metadata": {},
   "source": [
    "### Check if converted data looks correct"
   ]
  },
  {
   "cell_type": "code",
   "execution_count": 6,
   "metadata": {},
   "outputs": [
    {
     "name": "stdout",
     "output_type": "stream",
     "text": [
      "Selected plate: Plate_3_prime\n",
      "(7300, 2321)\n"
     ]
    },
    {
     "data": {
      "text/html": [
       "<div>\n",
       "<style scoped>\n",
       "    .dataframe tbody tr th:only-of-type {\n",
       "        vertical-align: middle;\n",
       "    }\n",
       "\n",
       "    .dataframe tbody tr th {\n",
       "        vertical-align: top;\n",
       "    }\n",
       "\n",
       "    .dataframe thead th {\n",
       "        text-align: right;\n",
       "    }\n",
       "</style>\n",
       "<table border=\"1\" class=\"dataframe\">\n",
       "  <thead>\n",
       "    <tr style=\"text-align: right;\">\n",
       "      <th></th>\n",
       "      <th>Metadata_ImageNumber</th>\n",
       "      <th>Image_Metadata_Plate</th>\n",
       "      <th>Metadata_number_of_singlecells</th>\n",
       "      <th>Image_Metadata_Site</th>\n",
       "      <th>Image_Metadata_Well</th>\n",
       "      <th>Metadata_Cells_Number_Object_Number</th>\n",
       "      <th>Metadata_Cytoplasm_Parent_Cells</th>\n",
       "      <th>Metadata_Cytoplasm_Parent_Nuclei</th>\n",
       "      <th>Metadata_Nuclei_Number_Object_Number</th>\n",
       "      <th>Image_FileName_CY5</th>\n",
       "      <th>...</th>\n",
       "      <th>Nuclei_Texture_Variance_DAPI_3_02_256</th>\n",
       "      <th>Nuclei_Texture_Variance_DAPI_3_03_256</th>\n",
       "      <th>Nuclei_Texture_Variance_GFP_3_00_256</th>\n",
       "      <th>Nuclei_Texture_Variance_GFP_3_01_256</th>\n",
       "      <th>Nuclei_Texture_Variance_GFP_3_02_256</th>\n",
       "      <th>Nuclei_Texture_Variance_GFP_3_03_256</th>\n",
       "      <th>Nuclei_Texture_Variance_RFP_3_00_256</th>\n",
       "      <th>Nuclei_Texture_Variance_RFP_3_01_256</th>\n",
       "      <th>Nuclei_Texture_Variance_RFP_3_02_256</th>\n",
       "      <th>Nuclei_Texture_Variance_RFP_3_03_256</th>\n",
       "    </tr>\n",
       "  </thead>\n",
       "  <tbody>\n",
       "    <tr>\n",
       "      <th>0</th>\n",
       "      <td>183</td>\n",
       "      <td>Plate_3_prime</td>\n",
       "      <td>321</td>\n",
       "      <td>15</td>\n",
       "      <td>C12</td>\n",
       "      <td>1</td>\n",
       "      <td>1</td>\n",
       "      <td>8</td>\n",
       "      <td>8</td>\n",
       "      <td>C12_01_3_15_CY5_001_illumcorrect.tiff</td>\n",
       "      <td>...</td>\n",
       "      <td>2666.512416</td>\n",
       "      <td>2725.833540</td>\n",
       "      <td>569.550302</td>\n",
       "      <td>545.735441</td>\n",
       "      <td>549.774822</td>\n",
       "      <td>573.410232</td>\n",
       "      <td>206.586243</td>\n",
       "      <td>202.444229</td>\n",
       "      <td>200.314037</td>\n",
       "      <td>210.278640</td>\n",
       "    </tr>\n",
       "    <tr>\n",
       "      <th>1</th>\n",
       "      <td>65</td>\n",
       "      <td>Plate_3_prime</td>\n",
       "      <td>76</td>\n",
       "      <td>20</td>\n",
       "      <td>B3</td>\n",
       "      <td>1</td>\n",
       "      <td>1</td>\n",
       "      <td>6</td>\n",
       "      <td>6</td>\n",
       "      <td>B3_01_3_20_CY5_001_illumcorrect.tiff</td>\n",
       "      <td>...</td>\n",
       "      <td>734.772898</td>\n",
       "      <td>667.564667</td>\n",
       "      <td>184.936092</td>\n",
       "      <td>169.177476</td>\n",
       "      <td>173.206454</td>\n",
       "      <td>170.684616</td>\n",
       "      <td>474.013885</td>\n",
       "      <td>468.030715</td>\n",
       "      <td>516.872580</td>\n",
       "      <td>490.639492</td>\n",
       "    </tr>\n",
       "    <tr>\n",
       "      <th>2</th>\n",
       "      <td>84</td>\n",
       "      <td>Plate_3_prime</td>\n",
       "      <td>219</td>\n",
       "      <td>8</td>\n",
       "      <td>B4</td>\n",
       "      <td>1</td>\n",
       "      <td>1</td>\n",
       "      <td>6</td>\n",
       "      <td>6</td>\n",
       "      <td>B4_01_3_8_CY5_001_illumcorrect.tiff</td>\n",
       "      <td>...</td>\n",
       "      <td>1643.702342</td>\n",
       "      <td>1669.490817</td>\n",
       "      <td>228.022375</td>\n",
       "      <td>234.970245</td>\n",
       "      <td>233.153803</td>\n",
       "      <td>236.468362</td>\n",
       "      <td>216.805122</td>\n",
       "      <td>218.543485</td>\n",
       "      <td>214.610375</td>\n",
       "      <td>210.813835</td>\n",
       "    </tr>\n",
       "    <tr>\n",
       "      <th>3</th>\n",
       "      <td>179</td>\n",
       "      <td>Plate_3_prime</td>\n",
       "      <td>321</td>\n",
       "      <td>10</td>\n",
       "      <td>C12</td>\n",
       "      <td>1</td>\n",
       "      <td>1</td>\n",
       "      <td>6</td>\n",
       "      <td>6</td>\n",
       "      <td>C12_01_3_10_CY5_001_illumcorrect.tiff</td>\n",
       "      <td>...</td>\n",
       "      <td>820.456512</td>\n",
       "      <td>804.943815</td>\n",
       "      <td>65.933688</td>\n",
       "      <td>64.745949</td>\n",
       "      <td>63.288276</td>\n",
       "      <td>64.099950</td>\n",
       "      <td>145.008956</td>\n",
       "      <td>144.465398</td>\n",
       "      <td>144.192840</td>\n",
       "      <td>144.019745</td>\n",
       "    </tr>\n",
       "    <tr>\n",
       "      <th>4</th>\n",
       "      <td>234</td>\n",
       "      <td>Plate_3_prime</td>\n",
       "      <td>137</td>\n",
       "      <td>14</td>\n",
       "      <td>C3</td>\n",
       "      <td>1</td>\n",
       "      <td>1</td>\n",
       "      <td>6</td>\n",
       "      <td>6</td>\n",
       "      <td>C3_01_3_14_CY5_001_illumcorrect.tiff</td>\n",
       "      <td>...</td>\n",
       "      <td>1059.576249</td>\n",
       "      <td>975.720272</td>\n",
       "      <td>79.432881</td>\n",
       "      <td>78.691527</td>\n",
       "      <td>79.371986</td>\n",
       "      <td>79.677796</td>\n",
       "      <td>254.487000</td>\n",
       "      <td>254.277954</td>\n",
       "      <td>248.561145</td>\n",
       "      <td>245.343853</td>\n",
       "    </tr>\n",
       "  </tbody>\n",
       "</table>\n",
       "<p>5 rows × 2321 columns</p>\n",
       "</div>"
      ],
      "text/plain": [
       "   Metadata_ImageNumber Image_Metadata_Plate  Metadata_number_of_singlecells  \\\n",
       "0                   183        Plate_3_prime                             321   \n",
       "1                    65        Plate_3_prime                              76   \n",
       "2                    84        Plate_3_prime                             219   \n",
       "3                   179        Plate_3_prime                             321   \n",
       "4                   234        Plate_3_prime                             137   \n",
       "\n",
       "  Image_Metadata_Site Image_Metadata_Well  \\\n",
       "0                  15                 C12   \n",
       "1                  20                  B3   \n",
       "2                   8                  B4   \n",
       "3                  10                 C12   \n",
       "4                  14                  C3   \n",
       "\n",
       "   Metadata_Cells_Number_Object_Number  Metadata_Cytoplasm_Parent_Cells  \\\n",
       "0                                    1                                1   \n",
       "1                                    1                                1   \n",
       "2                                    1                                1   \n",
       "3                                    1                                1   \n",
       "4                                    1                                1   \n",
       "\n",
       "   Metadata_Cytoplasm_Parent_Nuclei  Metadata_Nuclei_Number_Object_Number  \\\n",
       "0                                 8                                     8   \n",
       "1                                 6                                     6   \n",
       "2                                 6                                     6   \n",
       "3                                 6                                     6   \n",
       "4                                 6                                     6   \n",
       "\n",
       "                      Image_FileName_CY5  ...  \\\n",
       "0  C12_01_3_15_CY5_001_illumcorrect.tiff  ...   \n",
       "1   B3_01_3_20_CY5_001_illumcorrect.tiff  ...   \n",
       "2    B4_01_3_8_CY5_001_illumcorrect.tiff  ...   \n",
       "3  C12_01_3_10_CY5_001_illumcorrect.tiff  ...   \n",
       "4   C3_01_3_14_CY5_001_illumcorrect.tiff  ...   \n",
       "\n",
       "  Nuclei_Texture_Variance_DAPI_3_02_256 Nuclei_Texture_Variance_DAPI_3_03_256  \\\n",
       "0                           2666.512416                           2725.833540   \n",
       "1                            734.772898                            667.564667   \n",
       "2                           1643.702342                           1669.490817   \n",
       "3                            820.456512                            804.943815   \n",
       "4                           1059.576249                            975.720272   \n",
       "\n",
       "  Nuclei_Texture_Variance_GFP_3_00_256 Nuclei_Texture_Variance_GFP_3_01_256  \\\n",
       "0                           569.550302                           545.735441   \n",
       "1                           184.936092                           169.177476   \n",
       "2                           228.022375                           234.970245   \n",
       "3                            65.933688                            64.745949   \n",
       "4                            79.432881                            78.691527   \n",
       "\n",
       "  Nuclei_Texture_Variance_GFP_3_02_256 Nuclei_Texture_Variance_GFP_3_03_256  \\\n",
       "0                           549.774822                           573.410232   \n",
       "1                           173.206454                           170.684616   \n",
       "2                           233.153803                           236.468362   \n",
       "3                            63.288276                            64.099950   \n",
       "4                            79.371986                            79.677796   \n",
       "\n",
       "  Nuclei_Texture_Variance_RFP_3_00_256  Nuclei_Texture_Variance_RFP_3_01_256  \\\n",
       "0                           206.586243                            202.444229   \n",
       "1                           474.013885                            468.030715   \n",
       "2                           216.805122                            218.543485   \n",
       "3                           145.008956                            144.465398   \n",
       "4                           254.487000                            254.277954   \n",
       "\n",
       "   Nuclei_Texture_Variance_RFP_3_02_256  Nuclei_Texture_Variance_RFP_3_03_256  \n",
       "0                            200.314037                            210.278640  \n",
       "1                            516.872580                            490.639492  \n",
       "2                            214.610375                            210.813835  \n",
       "3                            144.192840                            144.019745  \n",
       "4                            248.561145                            245.343853  \n",
       "\n",
       "[5 rows x 2321 columns]"
      ]
     },
     "execution_count": 6,
     "metadata": {},
     "output_type": "execute_result"
    }
   ],
   "source": [
    "# Automatically select one plate from the current dictionary\n",
    "selected_plate = next(iter(plate_info_dictionary))\n",
    "print(f\"Selected plate: {selected_plate}\")\n",
    "\n",
    "# Load the DataFrame from the Parquet file of the selected plate\n",
    "converted_df = pd.read_parquet(plate_info_dictionary[selected_plate][\"dest_path\"])\n",
    "\n",
    "# Print the shape and head of the DataFrame\n",
    "print(converted_df.shape)\n",
    "converted_df.head()"
   ]
  },
  {
   "cell_type": "markdown",
   "metadata": {},
   "source": [
    "## Write dictionary to yaml file for use in downstream steps"
   ]
  },
  {
   "cell_type": "code",
   "execution_count": 7,
   "metadata": {},
   "outputs": [],
   "source": [
    "dictionary_path = pathlib.Path(\"./plate_info_dictionary.yaml\")\n",
    "with open(dictionary_path, \"w\") as file:\n",
    "    yaml.dump(plate_info_dictionary, file)"
   ]
  }
 ],
 "metadata": {
  "kernelspec": {
   "display_name": "nf1_preprocessing_env",
   "language": "python",
   "name": "python3"
  },
  "language_info": {
   "codemirror_mode": {
    "name": "ipython",
    "version": 3
   },
   "file_extension": ".py",
   "mimetype": "text/x-python",
   "name": "python",
   "nbconvert_exporter": "python",
   "pygments_lexer": "ipython3",
   "version": "3.9.12"
  }
 },
 "nbformat": 4,
 "nbformat_minor": 4
}
